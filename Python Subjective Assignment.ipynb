{
 "cells": [
  {
   "cell_type": "code",
   "execution_count": 1,
   "metadata": {},
   "outputs": [],
   "source": [
    "## Q1.Write a Python program to get the string from thegiven string where all theoccurrence of its first char has been changed to '$,' except first char itself?"
   ]
  },
  {
   "cell_type": "code",
   "execution_count": 2,
   "metadata": {},
   "outputs": [
    {
     "name": "stdout",
     "output_type": "stream",
     "text": [
      "abc$bc$\n"
     ]
    }
   ],
   "source": [
    "def replacer(str1):\n",
    "    char=str1[0]\n",
    "    str1 = str1.replace(char,'$')\n",
    "    str1 = char+str1[1:]\n",
    "    print(str1)\n",
    "replacer('abcabca')"
   ]
  },
  {
   "cell_type": "code",
   "execution_count": 3,
   "metadata": {},
   "outputs": [],
   "source": [
    "## Q2.Write a Python program to get thesingle string from the two given strings, and separated by thespace and swap the first two characters of each string?"
   ]
  },
  {
   "cell_type": "code",
   "execution_count": 4,
   "metadata": {},
   "outputs": [
    {
     "name": "stdout",
     "output_type": "stream",
     "text": [
      "xyc abz\n"
     ]
    }
   ],
   "source": [
    "def swapper(str1,str2):\n",
    "    char1 = str1[:2]\n",
    "    char2 = str2[:2]\n",
    "    str1 = char2+str1[2:]\n",
    "    str2 = char1+str2[2:]\n",
    "    print(str1,str2)\n",
    "swapper('abc','xyz')"
   ]
  },
  {
   "cell_type": "code",
   "execution_count": 5,
   "metadata": {},
   "outputs": [],
   "source": [
    "## Q3. Write thePython program to add 'ing' at the end of thegiven string (length of the string shouldbe at least 3). Ifgiven string already ends with 'ing,'then add 'ly' instead. Ifstring length of the given string is less than 3, leave it unchanged?"
   ]
  },
  {
   "cell_type": "code",
   "execution_count": 7,
   "metadata": {},
   "outputs": [
    {
     "name": "stdout",
     "output_type": "stream",
     "text": [
      "stringly\n",
      "abcing\n"
     ]
    }
   ],
   "source": [
    "def modify(str):\n",
    "    chars = str[-3:]\n",
    "    if (chars =='ing'):\n",
    "        str=str+'ly'\n",
    "    else:\n",
    "        str=str+'ing'\n",
    "    print(str)\n",
    "modify('string')\n",
    "modify('abc')"
   ]
  },
  {
   "cell_type": "code",
   "execution_count": 8,
   "metadata": {},
   "outputs": [],
   "source": [
    "##Q4. Write thePython program to find the first appearance of the substring 'not' and 'poor' from thegiven string, if 'not' follows the 'poor', replace the whole 'not'...'poor' substring with 'good'.Return the resulting string."
   ]
  },
  {
   "cell_type": "code",
   "execution_count": 12,
   "metadata": {},
   "outputs": [
    {
     "name": "stdout",
     "output_type": "stream",
     "text": [
      "The lyrics is good!\n",
      "The lyrics is poor!\n"
     ]
    }
   ],
   "source": [
    "def poorFinder(str1):\n",
    "    not_poor= str1.find('not')\n",
    "    poor = str1.find('poor')\n",
    "    if poor > not_poor and not_poor>0 and poor>0:\n",
    "        str1 = str1.replace(str1[not_poor:(poor+4)], 'good')\n",
    "        return str1\n",
    "    else:\n",
    "        return str1\n",
    "print(poorFinder('The lyrics is not that poor!'))\n",
    "print(poorFinder('The lyrics is poor!'))"
   ]
  },
  {
   "cell_type": "code",
   "execution_count": 13,
   "metadata": {},
   "outputs": [],
   "source": [
    "##Q5.Write thePython program to remove the characters which have odd index values of a givenstring."
   ]
  },
  {
   "cell_type": "code",
   "execution_count": 14,
   "metadata": {},
   "outputs": [
    {
     "name": "stdout",
     "output_type": "stream",
     "text": [
      "hlo\n"
     ]
    }
   ],
   "source": [
    "def oddValues(str1):\n",
    "    res = ''\n",
    "    for i in range(len(str1)):\n",
    "        if(i%2==0):\n",
    "            res=res+str1[i]\n",
    "    print(res)\n",
    "\n",
    "oddValues('hello')\n",
    "    "
   ]
  },
  {
   "cell_type": "code",
   "execution_count": 15,
   "metadata": {},
   "outputs": [],
   "source": [
    "## Q6. Write thePython function to get a string made of 4 copiesof the last two characters of thespecified string (length must be at least 2)."
   ]
  },
  {
   "cell_type": "code",
   "execution_count": 17,
   "metadata": {},
   "outputs": [
    {
     "name": "stdout",
     "output_type": "stream",
     "text": [
      "onononon\n"
     ]
    }
   ],
   "source": [
    "def copy_maker(str1):\n",
    "    char = ''\n",
    "    char = char+str1[-2:]\n",
    "    print(char*4)\n",
    "copy_maker('python')"
   ]
  },
  {
   "cell_type": "code",
   "execution_count": 18,
   "metadata": {},
   "outputs": [],
   "source": [
    "## Q7. Write thepython function to get a string made of its first three characters of a specified string. Ifthe length of the string is less than 3 then return the original string."
   ]
  },
  {
   "cell_type": "code",
   "execution_count": 19,
   "metadata": {},
   "outputs": [
    {
     "name": "stdout",
     "output_type": "stream",
     "text": [
      "ipy\n",
      "pyt\n",
      "Hi\n"
     ]
    }
   ],
   "source": [
    "def copy_maker2(str1):\n",
    "    char = ''\n",
    "    if(len(str1)<=3):\n",
    "        print(str1)\n",
    "    else:\n",
    "        char=char+str1[:3]\n",
    "        print(char)\n",
    "\n",
    "copy_maker2('ipy')\n",
    "copy_maker2('python')\n",
    "copy_maker2('Hi')"
   ]
  },
  {
   "cell_type": "code",
   "execution_count": 20,
   "metadata": {},
   "outputs": [],
   "source": [
    "## Q8. Write thepython program to print the following floating numbers upto 2 decimal places?"
   ]
  },
  {
   "cell_type": "code",
   "execution_count": 21,
   "metadata": {},
   "outputs": [
    {
     "name": "stdout",
     "output_type": "stream",
     "text": [
      "2.35\n"
     ]
    }
   ],
   "source": [
    "def floating(num):\n",
    "    print(round(num,2))\n",
    "floating(2.3456)"
   ]
  },
  {
   "cell_type": "code",
   "execution_count": 22,
   "metadata": {},
   "outputs": [],
   "source": [
    "## Q9. Write thePython program to format a number with a percentage?"
   ]
  },
  {
   "cell_type": "code",
   "execution_count": 23,
   "metadata": {},
   "outputs": [
    {
     "name": "stdout",
     "output_type": "stream",
     "text": [
      "78.72%\n"
     ]
    }
   ],
   "source": [
    "def format_percentage(num):\n",
    "    print(\"{:.2%}\".format(num))\n",
    "format_percentage(.7872382)"
   ]
  },
  {
   "cell_type": "code",
   "execution_count": 24,
   "metadata": {},
   "outputs": [],
   "source": [
    "## Q10. Write thePython program to count occurrences of a substring in a String?"
   ]
  },
  {
   "cell_type": "code",
   "execution_count": 27,
   "metadata": {},
   "outputs": [
    {
     "name": "stdout",
     "output_type": "stream",
     "text": [
      "Occurences of ab is 5\n"
     ]
    }
   ],
   "source": [
    "def count_occurences(string,substring):\n",
    "    count=string.count(substring)\n",
    "    print(\"Occurences of \"+substring+\" is \"+str(count))\n",
    "\n",
    "count_occurences('ababsdsdabdfdfabsdsdab','ab')"
   ]
  },
  {
   "cell_type": "code",
   "execution_count": 28,
   "metadata": {},
   "outputs": [],
   "source": [
    "## Q11. Write thePython program to count repeated characters in a string."
   ]
  },
  {
   "cell_type": "code",
   "execution_count": 29,
   "metadata": {},
   "outputs": [
    {
     "name": "stdout",
     "output_type": "stream",
     "text": [
      "t 2\n",
      "h 2\n",
      "e 3\n",
      "q 1\n",
      "u 2\n",
      "i 1\n",
      "c 1\n",
      "k 1\n",
      "b 1\n",
      "r 2\n",
      "o 3\n",
      "w 1\n",
      "n 1\n",
      "j 1\n",
      "m 1\n",
      "p 1\n",
      "s 1\n",
      "v 1\n",
      "l 1\n",
      "a 1\n",
      "z 1\n",
      "y 1\n",
      "d 1\n",
      "g 1\n"
     ]
    }
   ],
   "source": [
    "def repeatedChars(str1):\n",
    "    counted=[]\n",
    "    for char in str1:\n",
    "        if char not in counted:\n",
    "            print(char+\" \"+str(str1.count(char)))\n",
    "            counted.append(char)\n",
    "        else:\n",
    "            continue\n",
    "repeatedChars('thequickbrownjumpsoverthelazydog')"
   ]
  },
  {
   "cell_type": "code",
   "execution_count": 30,
   "metadata": {},
   "outputs": [],
   "source": [
    "## Q12. Write thePython program to print the square and cube symbolin thearea of a rectangle and volume of a cylinder?"
   ]
  },
  {
   "cell_type": "code",
   "execution_count": 32,
   "metadata": {},
   "outputs": [
    {
     "name": "stdout",
     "output_type": "stream",
     "text": [
      "Area of Rectangle: 8.00cm²\n",
      "Volume of cylinder: 301.59cm³\n"
     ]
    }
   ],
   "source": [
    "from math import pi\n",
    "def rectangleArea(length,breadth):\n",
    "    area = length*breadth\n",
    "    print(\"Area of Rectangle: {0:.{1}f}cm\\u00b2\".format(area,2))\n",
    "    \n",
    "def cylinder_cube(radius,height):\n",
    "    vol = pi*radius*radius*height\n",
    "    print(\"Volume of cylinder: {0:.{1}f}cm\\u00b3\".format(vol,2))\n",
    "\n",
    "rectangleArea(2,4)\n",
    "cylinder_cube(4,6)"
   ]
  },
  {
   "cell_type": "code",
   "execution_count": 33,
   "metadata": {},
   "outputs": [],
   "source": [
    "## Q13. Write thePython program to check if a string contains all letters of the alphabet?"
   ]
  },
  {
   "cell_type": "code",
   "execution_count": 35,
   "metadata": {},
   "outputs": [
    {
     "name": "stdout",
     "output_type": "stream",
     "text": [
      "True\n",
      "False\n"
     ]
    }
   ],
   "source": [
    "import string\n",
    "s = set(string.ascii_lowercase)\n",
    "\n",
    "string = 'The quick brown fox jumps over the lazy dog'\n",
    "print(set(string.lower()) >= s)\n",
    "string = 'The SLOW brown fox jumps over the lazy dog'\n",
    "print(set(string.lower()) >= s)"
   ]
  },
  {
   "cell_type": "code",
   "execution_count": 36,
   "metadata": {},
   "outputs": [],
   "source": [
    "## Q14. Write thePython program to find the second most repeated word in a given string?"
   ]
  },
  {
   "cell_type": "code",
   "execution_count": 1,
   "metadata": {},
   "outputs": [
    {
     "name": "stdout",
     "output_type": "stream",
     "text": [
      "('of', 5)\n"
     ]
    }
   ],
   "source": [
    "def wordCount(str1):\n",
    "    count = dict()\n",
    "    words = str1.split()\n",
    "    for word in words:\n",
    "        if(word in count):\n",
    "            count[word]+=1\n",
    "        else:\n",
    "            count[word]=1\n",
    "    \n",
    "    counts = sorted(count.items(),key=lambda x:x[1])\n",
    "    print(counts[-2])\n",
    "    \n",
    "wordCount('As he crossed toward the pharmacy at the corner he involuntarily turned his head because of a burst of light that had ricocheted from his temple, and saw, with that quick smile with which we greet a rainbow or a rose, a blindingly white parallelogram of sky being unloaded from the van—a dresser with mirrors across which, as across a cinema screen, passed a flawlessly clear reflection of boughs sliding and swaying not arboreally, but with a human vacillation, produced by the nature of those who were carrying this sky, these boughs, this gliding façade.')"
   ]
  },
  {
   "cell_type": "code",
   "execution_count": 2,
   "metadata": {},
   "outputs": [],
   "source": [
    "## Q15. Write thePython programto find the minimum window in thegivenstring,which will containsall the characters of another given strings?"
   ]
  },
  {
   "cell_type": "code",
   "execution_count": 1,
   "metadata": {},
   "outputs": [
    {
     "name": "stdout",
     "output_type": "stream",
     "text": [
      "Original Strings:\n",
      " PRWSOERIUSFK \n",
      " OSU\n",
      "Minimum window:\n",
      "OERIUS\n"
     ]
    }
   ],
   "source": [
    "import collections\n",
    "def min_window(str1, str2):\n",
    "    result_char, missing_char = collections.Counter(str2), len(str2)\n",
    "    i = p = q = 0\n",
    "    for j, c in enumerate(str1, 1):\n",
    "        missing_char -= result_char[c] > 0\n",
    "        result_char[c] -= 1\n",
    "        if not missing_char:\n",
    "            while i < q and result_char[str1[i]] < 0:\n",
    "                result_char[str1[i]] += 1\n",
    "                i += 1\n",
    "            if not q or j - i <= q - p:\n",
    "                p, q = i, j\n",
    "    return str1[p:q]\n",
    "           \n",
    "str1 = \"PRWSOERIUSFK\"\n",
    "str2 = \"OSU\"\n",
    "print(\"Original Strings:\\n\",str1,\"\\n\",str2)\n",
    "print(\"Minimum window:\")\n",
    "print(min_window(str1,str2))"
   ]
  },
  {
   "cell_type": "code",
   "execution_count": 3,
   "metadata": {},
   "outputs": [],
   "source": [
    "## Q16. Write thePython program to find smallest window that contains all characters of thegiven string?"
   ]
  },
  {
   "cell_type": "code",
   "execution_count": 2,
   "metadata": {},
   "outputs": [
    {
     "name": "stdout",
     "output_type": "stream",
     "text": [
      "Original Strings:\n",
      " asdaewsqgtwwsa\n",
      "\n",
      "Smallest window that contains all characters of the said string:\n",
      "daewsqgt\n"
     ]
    }
   ],
   "source": [
    "from collections import defaultdict   \n",
    "\n",
    "def find_sub_string(str): \n",
    "    str_len = len(str) \n",
    "      \n",
    "    # Count all distinct characters. \n",
    "    dist_count_char = len(set([x for x in str])) \n",
    "  \n",
    "    ctr, start_pos, start_pos_index, min_len = 0, 0, -1, 9999999999\n",
    "    curr_count = defaultdict(lambda: 0) \n",
    "    for i in range(str_len): \n",
    "        curr_count[str[i]] += 1\n",
    " \n",
    "        if curr_count[str[i]] == 1: \n",
    "            ctr += 1\n",
    "  \n",
    "        if ctr == dist_count_char: \n",
    "            while curr_count[str[start_pos]] > 1: \n",
    "                if curr_count[str[start_pos]] > 1: \n",
    "                    curr_count[str[start_pos]] -= 1\n",
    "                start_pos += 1\n",
    "  \n",
    "            len_window = i - start_pos + 1\n",
    "            if min_len > len_window: \n",
    "                min_len = len_window \n",
    "                start_pos_index = start_pos \n",
    "    return str[start_pos_index: start_pos_index + min_len] \n",
    "      \n",
    "str1 = \"asdaewsqgtwwsa\"\n",
    "print(\"Original Strings:\\n\",str1)\n",
    "print(\"\\nSmallest window that contains all characters of the said string:\")\n",
    "print(find_sub_string(str1)) "
   ]
  },
  {
   "cell_type": "code",
   "execution_count": 4,
   "metadata": {},
   "outputs": [],
   "source": [
    "## Q17. Write thePython program to count number of substrings from a given string of lowercase alphabets with exactly k distinct (given) characters?"
   ]
  },
  {
   "cell_type": "code",
   "execution_count": 5,
   "metadata": {},
   "outputs": [
    {
     "name": "stdout",
     "output_type": "stream",
     "text": [
      "Input a string (lowercase alphabets):manoj\n",
      "Input k: 3\n",
      "Number of substrings with exactly 3 distinct characters : 3\n"
     ]
    }
   ],
   "source": [
    "def count_k_dist(str1, k): \n",
    "    str_len = len(str1) \n",
    "    result = 0\n",
    "    ctr = [0] * 27\n",
    "    for i in range(0, str_len): \n",
    "        dist_ctr = 0\n",
    "        ctr = [0] * 27\n",
    "        for j in range(i, str_len): \n",
    "            if(ctr[ord(str1[j]) - 97] == 0): \n",
    "                dist_ctr += 1\n",
    "                ctr[ord(str1[j]) - 97] += 1\n",
    "                if(dist_ctr == k): \n",
    "                    result += 1\n",
    "                if(dist_ctr > k): \n",
    "                    break\n",
    "    return result \n",
    "\n",
    "str1 = input(\"Input a string (lowercase alphabets):\")\n",
    "k = int(input(\"Input k: \"))\n",
    "print(\"Number of substrings with exactly\", k, \"distinct characters : \", end = \"\") \n",
    "print(count_k_dist(str1, k))"
   ]
  },
  {
   "cell_type": "code",
   "execution_count": 5,
   "metadata": {},
   "outputs": [],
   "source": [
    "## Q18. Write thePython program to count number of non-empty substrings of thegiven string?"
   ]
  },
  {
   "cell_type": "code",
   "execution_count": 7,
   "metadata": {},
   "outputs": [
    {
     "name": "stdout",
     "output_type": "stream",
     "text": [
      "Enter string: w3resource\n",
      "Substrings:55\n"
     ]
    }
   ],
   "source": [
    "str1=input(\"Enter string: \")\n",
    "n= len(str1)\n",
    "print(\"Substrings:\"+str(int(n*(n+1)/2)))"
   ]
  },
  {
   "cell_type": "code",
   "execution_count": 8,
   "metadata": {},
   "outputs": [],
   "source": [
    "## Q19.Write thePython program to count number of substrings with same first and last characters of thegiven string?"
   ]
  },
  {
   "cell_type": "code",
   "execution_count": 9,
   "metadata": {},
   "outputs": [
    {
     "name": "stdout",
     "output_type": "stream",
     "text": [
      "enter string: abcd\n",
      "4\n"
     ]
    }
   ],
   "source": [
    "str1 = input(\"enter string: \")\n",
    "result = 0\n",
    "n = len(str1)\n",
    "for i in range(n):\n",
    "    for j in range(i,n):\n",
    "        if(str1[i]==str1[j]):\n",
    "            result+=1\n",
    "print(result)\n"
   ]
  },
  {
   "cell_type": "code",
   "execution_count": 10,
   "metadata": {},
   "outputs": [],
   "source": [
    "## Q20.Write thePython program to count the number of strings where the string length is 2 or more, and first and last character are same from a given list of strings."
   ]
  },
  {
   "cell_type": "code",
   "execution_count": 11,
   "metadata": {},
   "outputs": [
    {
     "name": "stdout",
     "output_type": "stream",
     "text": [
      "abc xyz wxw 1331\n",
      "2\n"
     ]
    }
   ],
   "source": [
    "list1 = input().split()\n",
    "count = 0\n",
    "for word in list1:\n",
    "    length = len(word)\n",
    "    if(length>2):\n",
    "        if(word[0]==word[length-1]):\n",
    "            count+=1\n",
    "print(count)"
   ]
  },
  {
   "cell_type": "code",
   "execution_count": 1,
   "metadata": {},
   "outputs": [],
   "source": [
    "## Q21.Write thePython program to get a list, sorted in increasing orderby the last element in each tuple from thegiven list of non-empty tuples?"
   ]
  },
  {
   "cell_type": "code",
   "execution_count": 2,
   "metadata": {},
   "outputs": [
    {
     "name": "stdout",
     "output_type": "stream",
     "text": [
      "[(5, 1), (3, 3), (99, 4), (6, 7), (12, 90)]\n"
     ]
    }
   ],
   "source": [
    "def sorter(tuples):\n",
    "    return sorted(tuples,key =last)\n",
    "def last(n):\n",
    "    return n[-1]\n",
    "\n",
    "print(sorter([(6, 7), (12, 90), (99, 4), (3, 3), (5, 1)]))"
   ]
  },
  {
   "cell_type": "code",
   "execution_count": 3,
   "metadata": {},
   "outputs": [],
   "source": [
    "## Q22. Write thePython program to remove duplicates from a list?"
   ]
  },
  {
   "cell_type": "code",
   "execution_count": 6,
   "metadata": {},
   "outputs": [
    {
     "name": "stdout",
     "output_type": "stream",
     "text": [
      "[1, 3, 5, 2, 4]\n"
     ]
    }
   ],
   "source": [
    "def duplicateRemover(l):\n",
    "    finalList=[]\n",
    "    for word in l:\n",
    "        if word in finalList:\n",
    "            continue\n",
    "        else:\n",
    "            finalList.append(word)\n",
    "    print(finalList)\n",
    "duplicateRemover([1,1,3,5,5,1,2,3,3,3,4,4,4])"
   ]
  },
  {
   "cell_type": "code",
   "execution_count": 7,
   "metadata": {},
   "outputs": [],
   "source": [
    "## Q23. Write thePython program to find the list of words that are longer than n from a given list of words?"
   ]
  },
  {
   "cell_type": "code",
   "execution_count": 2,
   "metadata": {},
   "outputs": [
    {
     "name": "stdout",
     "output_type": "stream",
     "text": [
      "Enter a string: As he crossed toward the pharmacy at the corner he involuntarily turned his head because of a burst of light that had ricocheted from his temple\n",
      "Enter n: 4\n",
      "['crossed', 'toward', 'pharmacy', 'corner', 'involuntarily', 'turned', 'because', 'burst', 'light', 'ricocheted', 'temple']\n"
     ]
    }
   ],
   "source": [
    "str1 = input(\"Enter a string: \")\n",
    "n = int(input(\"Enter n: \"))\n",
    "finalList=[]\n",
    "words = str1.split(\" \")\n",
    "for word in words:\n",
    "    if len(word)>n:\n",
    "        finalList.append(word)\n",
    "print(finalList)"
   ]
  },
  {
   "cell_type": "code",
   "execution_count": 3,
   "metadata": {},
   "outputs": [],
   "source": [
    "## Write thePython program to print a specified list after removing the0th, 4th,and 5th elements?"
   ]
  },
  {
   "cell_type": "code",
   "execution_count": 4,
   "metadata": {},
   "outputs": [
    {
     "name": "stdout",
     "output_type": "stream",
     "text": [
      "Enter elements for list: zero one two three four five six\n",
      "Before removal:  ['zero', 'one', 'two', 'three', 'four', 'five', 'six']\n",
      "After removal:  ['one', 'two', 'three', 'six']\n"
     ]
    }
   ],
   "source": [
    "list1 = input(\"Enter elements for list: \").split()\n",
    "print(\"Before removal: \",list1)\n",
    "unwanted = {0,4,5}\n",
    "list1 = [list1[list1.index(element)] for element in list1 if list1.index(element) not in unwanted]\n",
    "print(\"After removal: \",list1)"
   ]
  },
  {
   "cell_type": "code",
   "execution_count": 5,
   "metadata": {},
   "outputs": [],
   "source": [
    "## Q25. Write thePython program to generate all permutations of a list in Python?"
   ]
  },
  {
   "cell_type": "code",
   "execution_count": 6,
   "metadata": {},
   "outputs": [
    {
     "name": "stdout",
     "output_type": "stream",
     "text": [
      "[(1, 2, 3), (1, 3, 2), (2, 1, 3), (2, 3, 1), (3, 1, 2), (3, 2, 1)]\n"
     ]
    }
   ],
   "source": [
    "import itertools\n",
    "lis1 = [1,2,3]\n",
    "lis2 = list(itertools.permutations(lis1))\n",
    "print(lis2)"
   ]
  },
  {
   "cell_type": "code",
   "execution_count": 7,
   "metadata": {},
   "outputs": [],
   "source": [
    "## Q26. Write thePython program to convert a pair of values into a sorted unique array?"
   ]
  },
  {
   "cell_type": "code",
   "execution_count": 8,
   "metadata": {},
   "outputs": [
    {
     "name": "stdout",
     "output_type": "stream",
     "text": [
      "[1, 2, 3, 4, 5, 6, 7, 8, 9, 10]\n"
     ]
    }
   ],
   "source": [
    "original = [(1, 2), (3, 4), (1, 2), (5, 6), (7, 8), (1, 2), (3, 4), (3, 4), (7,8), (9, 10)]\n",
    "list1 = [item for tupl in original for item in tupl]\n",
    "print(sorted(list(dict.fromkeys(list1))))\n"
   ]
  },
  {
   "cell_type": "code",
   "execution_count": 9,
   "metadata": {},
   "outputs": [],
   "source": [
    "## Q27. Write thePython class to convert an integer to a roman numeral?"
   ]
  },
  {
   "cell_type": "code",
   "execution_count": 1,
   "metadata": {},
   "outputs": [
    {
     "name": "stdout",
     "output_type": "stream",
     "text": [
      "CDXCII\n",
      "CMXCVII\n"
     ]
    }
   ],
   "source": [
    "def toRoman(num):\n",
    "    value = [1000,900,500,400,100,90,50,40,10,9,5,4,1]\n",
    "    symbol= ['M','CM','D','CD','C','XC','L','XL','X','IX','V','IV','I']\n",
    "    roman = ''\n",
    "    i=0\n",
    "    while num>0:\n",
    "        for x in range(num//value[i]):\n",
    "            roman+=symbol[i]\n",
    "            num -= value[i]\n",
    "        i+=1\n",
    "    print(roman)\n",
    "\n",
    "toRoman(492)\n",
    "toRoman(997)"
   ]
  },
  {
   "cell_type": "code",
   "execution_count": 2,
   "metadata": {},
   "outputs": [],
   "source": [
    "## Q29. Write thePython class to find the validity of thestring oftheparentheses, '(', ')', '{', '}', '[' and '] and the brackets must be closedin the correctorder, example -\"()\" and \"()[]{}\" are valid but \"[)\",\"({[)]\" and \"{{{\"are invalid."
   ]
  },
  {
   "cell_type": "code",
   "execution_count": 3,
   "metadata": {},
   "outputs": [
    {
     "name": "stdout",
     "output_type": "stream",
     "text": [
      "True\n"
     ]
    }
   ],
   "source": [
    "stack = []\n",
    "brackets = {\"(\":\")\",\"{\":\"}\",\"[\":\"]\"}\n",
    "def validBrackets(str1):\n",
    "    for char in str1:\n",
    "        if char in brackets:\n",
    "            stack.append(char)\n",
    "        elif len(stack)==0 or brackets[stack.pop()]!=char:\n",
    "            return False\n",
    "    return len(stack)==0\n",
    "\n",
    "print(validBrackets(\"\"))"
   ]
  },
  {
   "cell_type": "code",
   "execution_count": 4,
   "metadata": {},
   "outputs": [],
   "source": [
    "## Q30. Write thePython class to get all possible unique subsets from a set of distinct integers?"
   ]
  },
  {
   "cell_type": "code",
   "execution_count": 37,
   "metadata": {},
   "outputs": [
    {
     "name": "stdout",
     "output_type": "stream",
     "text": [
      "[[], [1], [1, 2], [1, 2, 3], [1, 2, 3, 4], [2], [2, 3], [2, 3, 4], [3], [3, 4], [4]]\n"
     ]
    }
   ],
   "source": [
    "class subsets:\n",
    "    def subset(self,set1):\n",
    "        subs = [[]]\n",
    "        for i in range(len(set1)+1):\n",
    "            for j in range(i+1,len(set1)+1):\n",
    "                subs.append(set1[i:j])\n",
    "        print(subs)\n",
    "newSet = subsets()\n",
    "newSet.subset([1,2,3,4])"
   ]
  },
  {
   "cell_type": "code",
   "execution_count": 9,
   "metadata": {},
   "outputs": [],
   "source": [
    "## Q31. Write thePython class to find a pair of elements (indices of the two numbers) from a given array whose sum equals thespecific target number?"
   ]
  },
  {
   "cell_type": "code",
   "execution_count": 36,
   "metadata": {},
   "outputs": [
    {
     "name": "stdout",
     "output_type": "stream",
     "text": [
      "0,3\n",
      "2,3\n"
     ]
    }
   ],
   "source": [
    "class sums:\n",
    "    def findSum(self,list1,sum1):\n",
    "        elements=[]\n",
    "        for i in range(len(list1)):\n",
    "            for j in range(i,len(list1)):\n",
    "                if(list1[i]+list1[j]==sum1):\n",
    "                    if list1[i] and list1[j] not in elements:\n",
    "                        elements.append([list1[i],list1[j]])\n",
    "                        print(str(i)+\",\"+str(j))\n",
    "      \n",
    "                    \n",
    "newObject = sums()\n",
    "newObject.findSum([10,20,10,40,50,60,70],50)"
   ]
  },
  {
   "cell_type": "code",
   "execution_count": null,
   "metadata": {},
   "outputs": [],
   "source": [
    "## Q32. Write thePython class to find the three elements that sum to zero from theset of n real numbers?"
   ]
  },
  {
   "cell_type": "code",
   "execution_count": 30,
   "metadata": {},
   "outputs": [
    {
     "name": "stdout",
     "output_type": "stream",
     "text": [
      "[[-10, 2, 8], [-7, -3, 10]]\n"
     ]
    }
   ],
   "source": [
    "class sums:\n",
    "    def findSum(self,list1,sum1):\n",
    "        elements=[]\n",
    "        for i in range(len(list1)):\n",
    "            for j in range(i,len(list1)):\n",
    "                for k in range(j,len(list1)):\n",
    "                    if(list1[i]+list1[j]+list1[k]==sum1):\n",
    "                        if list1[i] and list1[j] not in elements:\n",
    "                            elements.append([list1[i],list1[j],list1[k]])\n",
    "        print(elements)\n",
    "      \n",
    "                    \n",
    "newObject = sums()\n",
    "newObject.findSum([-25, -10, -7, -3, 2, 4, 8, 10],0)"
   ]
  },
  {
   "cell_type": "code",
   "execution_count": 31,
   "metadata": {},
   "outputs": [],
   "source": [
    "##Q33. Write thePython class to implement pow(x, n)?"
   ]
  },
  {
   "cell_type": "code",
   "execution_count": 32,
   "metadata": {},
   "outputs": [
    {
     "name": "stdout",
     "output_type": "stream",
     "text": [
      "8\n"
     ]
    }
   ],
   "source": [
    "def pow1(n,x):\n",
    "        if x==0:\n",
    "            return 1\n",
    "        elif(x%2==0):\n",
    "            return pow1(n,x//2)*pow1(n,x//2)\n",
    "        else:\n",
    "            return n*pow1(n,x//2)*pow1(n,x//2)\n",
    "print(pow1(2,3))"
   ]
  },
  {
   "cell_type": "code",
   "execution_count": 34,
   "metadata": {},
   "outputs": [],
   "source": [
    "## Q34. Write thePython class which has two methods get_String and print_String. get_String accept thestring from the user and print_String print the string in upper case"
   ]
  },
  {
   "cell_type": "code",
   "execution_count": 38,
   "metadata": {},
   "outputs": [
    {
     "name": "stdout",
     "output_type": "stream",
     "text": [
      "manoj kumar\n",
      "MANOJ KUMAR\n"
     ]
    }
   ],
   "source": [
    "class Strings:\n",
    "    def __init__(self):\n",
    "        self.str1=\"\"\n",
    "    def get_string(self):\n",
    "        self.str1=input()\n",
    "    def print_string(self):\n",
    "        print(self.str1.upper())\n",
    "ob = Strings()\n",
    "ob.get_string()\n",
    "ob.print_string()"
   ]
  },
  {
   "cell_type": "code",
   "execution_count": 39,
   "metadata": {},
   "outputs": [],
   "source": [
    "## Q35. Write thePython class named Rectangle constructed by a length and width and themethod which will compute the area of therectangle?"
   ]
  },
  {
   "cell_type": "code",
   "execution_count": 42,
   "metadata": {},
   "outputs": [
    {
     "name": "stdout",
     "output_type": "stream",
     "text": [
      "Area = 713.4\n"
     ]
    }
   ],
   "source": [
    "class rectangle:\n",
    "    def __init__(self,a,b):\n",
    "        self.l=a\n",
    "        self.w=b\n",
    "    def area(self):\n",
    "        self.area = self.l*self.w\n",
    "        print(\"Area =\",self.area,)\n",
    "rect=rectangle(20.5,34.8)\n",
    "rect.area()"
   ]
  },
  {
   "cell_type": "code",
   "execution_count": 1,
   "metadata": {},
   "outputs": [],
   "source": [
    "## Q36. Write thePython class named Circle constructed by theradius and two methods which will compute the area and perimeter of thecircle?"
   ]
  },
  {
   "cell_type": "code",
   "execution_count": 2,
   "metadata": {},
   "outputs": [
    {
     "name": "stdout",
     "output_type": "stream",
     "text": [
      "Area =50.265\n",
      "Perimeter =25.133\n"
     ]
    }
   ],
   "source": [
    "import math\n",
    "class circle:\n",
    "    def __init__(self,a):\n",
    "        self.radius=a\n",
    "       \n",
    "    def area(self):\n",
    "        self.area = math.pi*self.radius*self.radius\n",
    "        print(\"Area ={0:.3f}\".format(self.area))\n",
    "    def perimeter(self):\n",
    "        self.peri = math.pi*self.radius*2\n",
    "        print(\"Perimeter ={0:.3f}\".format(self.peri))\n",
    "circle_object=circle(4)\n",
    "circle_object.area()\n",
    "circle_object.perimeter()"
   ]
  },
  {
   "cell_type": "code",
   "execution_count": 3,
   "metadata": {},
   "outputs": [],
   "source": [
    "## Q37. Write thePython program to get the class name of an instance in Python?"
   ]
  },
  {
   "cell_type": "code",
   "execution_count": 4,
   "metadata": {},
   "outputs": [
    {
     "name": "stdout",
     "output_type": "stream",
     "text": [
      "class1\n"
     ]
    }
   ],
   "source": [
    "class class1:\n",
    "    def __init__(self):\n",
    "        pass\n",
    "obj = class1()\n",
    "print(obj.__class__.__name__)"
   ]
  },
  {
   "cell_type": "code",
   "execution_count": 5,
   "metadata": {},
   "outputs": [],
   "source": [
    "## Q38. Write thePython program to count the number of students of individual class?"
   ]
  },
  {
   "cell_type": "code",
   "execution_count": 6,
   "metadata": {},
   "outputs": [
    {
     "name": "stdout",
     "output_type": "stream",
     "text": [
      "Counter({'VI': 3, 'V': 2, 'VII': 1})\n"
     ]
    }
   ],
   "source": [
    "from collections import Counter\n",
    "classes = (('V', 1),('VI', 1),('V', 2),('VI', 2),('VI', 3),('VII', 1),)\n",
    "students = Counter(classes for classes, student in classes)\n",
    "print(students)"
   ]
  },
  {
   "cell_type": "code",
   "execution_count": 7,
   "metadata": {},
   "outputs": [],
   "source": [
    "## Q39. Write thePython program to create an instance of an OrderedDict  using thegiven dictionary andsort dictionary during the creation and printmembers of the dictionary in reverse order?"
   ]
  },
  {
   "cell_type": "code",
   "execution_count": 8,
   "metadata": {},
   "outputs": [
    {
     "name": "stdout",
     "output_type": "stream",
     "text": [
      "Angola 244\n",
      "Andorra 376\n",
      "Algeria 213\n",
      "Afghanistan 93\n",
      "Albania 355\n",
      "After reversal:\n",
      "Albania 355\n",
      "Afghanistan 93\n",
      "Algeria 213\n",
      "Andorra 376\n",
      "Angola 244\n"
     ]
    }
   ],
   "source": [
    "from collections import OrderedDict\n",
    "d = {'Angola': 244, 'Andorra': 376, 'Algeria': 213, 'Afghanistan': 93, 'Albania': 355}\n",
    "new_d = OrderedDict(d)\n",
    "for key in new_d:\n",
    "    print(key,new_d[key])\n",
    "print(\"After reversal:\")\n",
    "for key in reversed(new_d):\n",
    "    print(key,new_d[key])"
   ]
  },
  {
   "cell_type": "code",
   "execution_count": 9,
   "metadata": {},
   "outputs": [],
   "source": [
    "## Q40. Write thePython program to comparetwo unordered lists (not sets)?"
   ]
  },
  {
   "cell_type": "code",
   "execution_count": 14,
   "metadata": {},
   "outputs": [
    {
     "name": "stdout",
     "output_type": "stream",
     "text": [
      "True\n",
      "False\n"
     ]
    }
   ],
   "source": [
    "from collections import Counter\n",
    "def comparison(list1,list2):\n",
    "    print(Counter(list1)==Counter(list2))\n",
    "list1=[1,2,3,4,5]\n",
    "list2=[1,2,3,4,5]\n",
    "comparison(list1,list2)\n",
    "list3=[4,5,1,5,2]\n",
    "list4=[6,5,8,8,4]\n",
    "comparison(list3,list4)"
   ]
  },
  {
   "cell_type": "code",
   "execution_count": 15,
   "metadata": {},
   "outputs": [],
   "source": [
    "## Q41. Write thePython program to get an array buffer information?"
   ]
  },
  {
   "cell_type": "code",
   "execution_count": 16,
   "metadata": {},
   "outputs": [
    {
     "name": "stdout",
     "output_type": "stream",
     "text": [
      "(80686608, 4)\n"
     ]
    }
   ],
   "source": [
    "from array import array\n",
    "a = array(\"b\",(1,2,3,4))\n",
    "print(a.buffer_info())"
   ]
  },
  {
   "cell_type": "code",
   "execution_count": 17,
   "metadata": {},
   "outputs": [],
   "source": [
    "## Q42. Write thePython program to convert an array to an array of machine values and return thebytes representation?"
   ]
  },
  {
   "cell_type": "code",
   "execution_count": 18,
   "metadata": {},
   "outputs": [
    {
     "name": "stdout",
     "output_type": "stream",
     "text": [
      "b'\\x01\\x00\\x00\\x00\\x02\\x00\\x00\\x00\\x03\\x00\\x00\\x00\\x04\\x00\\x00\\x00\\x05\\x00\\x00\\x00\\x06\\x00\\x00\\x00'\n"
     ]
    }
   ],
   "source": [
    "from array import array\n",
    "a = array('i', [1, 2, 3, 4, 5, 6])\n",
    "print(a.tobytes())"
   ]
  },
  {
   "cell_type": "code",
   "execution_count": 19,
   "metadata": {},
   "outputs": [],
   "source": [
    "## Q43. Write thePython program to read a string and interpreting the string as an array of machine values?"
   ]
  },
  {
   "cell_type": "code",
   "execution_count": 20,
   "metadata": {},
   "outputs": [
    {
     "name": "stdout",
     "output_type": "stream",
     "text": [
      "array1: array('i', [7, 8, 9, 10])\n",
      "Bytes: b'0700000008000000090000000a000000'\n",
      "array2: array('i', [7, 8, 9, 10])\n"
     ]
    }
   ],
   "source": [
    "from array import array\n",
    "import binascii\n",
    "array1 = array('i', [7, 8, 9, 10])\n",
    "print('array1:', array1)\n",
    "as_bytes = array1.tobytes()\n",
    "print('Bytes:', binascii.hexlify(as_bytes))\n",
    "array2 = array('i')\n",
    "array2.frombytes(as_bytes)\n",
    "print('array2:', array2)"
   ]
  },
  {
   "cell_type": "code",
   "execution_count": 22,
   "metadata": {},
   "outputs": [],
   "source": [
    "## Q44. Write thePython program to push three items into theheap and return the smallest item from the heap. Also, return and popthe smallest item from the heap?"
   ]
  },
  {
   "cell_type": "code",
   "execution_count": 23,
   "metadata": {},
   "outputs": [
    {
     "name": "stdout",
     "output_type": "stream",
     "text": [
      "Original heap is:  [('VI', 1), ('VII', 3), ('VIII', 2)]\n",
      "Smallest Element which is popped is: ('VI', 1)\n",
      "The heap becomes:  [('VII', 3), ('VIII', 2)]\n"
     ]
    }
   ],
   "source": [
    "import heapq\n",
    "heap=[]\n",
    "heapq.heappush(heap,('VI',1))\n",
    "heapq.heappush(heap,('VII',3))\n",
    "heapq.heappush(heap,('VIII',2))\n",
    "print(\"Original heap is: \",heap)\n",
    "print(\"Smallest Element which is popped is:\" ,heapq.heappop(heap))\n",
    "print(\"The heap becomes: \",heap)"
   ]
  },
  {
   "cell_type": "code",
   "execution_count": 24,
   "metadata": {},
   "outputs": [],
   "source": [
    "## Q45. Write thePython program to locate the left insertion point for a specified value in sorted order?"
   ]
  },
  {
   "cell_type": "code",
   "execution_count": 25,
   "metadata": {},
   "outputs": [
    {
     "name": "stdout",
     "output_type": "stream",
     "text": [
      "4\n",
      "2\n"
     ]
    }
   ],
   "source": [
    "import bisect\n",
    "li = [1,2,4,5]\n",
    "def leftInsert(a,x):\n",
    "    i = bisect.bisect_left(a,x)\n",
    "    print(i)\n",
    "leftInsert(li,6)\n",
    "leftInsert(li,3)\n"
   ]
  },
  {
   "cell_type": "code",
   "execution_count": 26,
   "metadata": {},
   "outputs": [],
   "source": [
    "## Q47. Write thePython program to calculate the harmonic sum of n-1.Note: The harmonic sum is the sum of reciprocals of the positive Integers"
   ]
  },
  {
   "cell_type": "code",
   "execution_count": 28,
   "metadata": {},
   "outputs": [
    {
     "name": "stdout",
     "output_type": "stream",
     "text": [
      "2.8289682539682537\n"
     ]
    }
   ],
   "source": [
    "def harmonic_sum(n):\n",
    "    sum=0\n",
    "    for i in range(1,n):\n",
    "        sum=sum+(1/i)\n",
    "    print(sum)\n",
    "harmonic_sum(10)"
   ]
  },
  {
   "cell_type": "code",
   "execution_count": 29,
   "metadata": {},
   "outputs": [],
   "source": [
    " ## Q48. Write theNumPy program to create a 2d array with 6on the border and 0inside?"
   ]
  },
  {
   "cell_type": "code",
   "execution_count": 30,
   "metadata": {},
   "outputs": [
    {
     "name": "stdout",
     "output_type": "stream",
     "text": [
      "Original:\n",
      "[[6 6 6 6 6 6]\n",
      " [6 6 6 6 6 6]\n",
      " [6 6 6 6 6 6]\n",
      " [6 6 6 6 6 6]\n",
      " [6 6 6 6 6 6]\n",
      " [6 6 6 6 6 6]]\n",
      "After modifying:\n",
      "[[6 6 6 6 6 6]\n",
      " [6 0 0 0 0 6]\n",
      " [6 0 0 0 0 6]\n",
      " [6 0 0 0 0 6]\n",
      " [6 0 0 0 0 6]\n",
      " [6 6 6 6 6 6]]\n"
     ]
    }
   ],
   "source": [
    "import numpy as np\n",
    "a = np.full((6,6),6)\n",
    "print(\"Original:\")\n",
    "print(a)\n",
    "print(\"After modifying:\")\n",
    "a[1:5,1:5]=0\n",
    "print(a)"
   ]
  },
  {
   "cell_type": "code",
   "execution_count": 31,
   "metadata": {},
   "outputs": [],
   "source": [
    "## Q49. Write theNumPy program to create a 8x8 matrix and fillit with thecheckerboard pattern?"
   ]
  },
  {
   "cell_type": "code",
   "execution_count": 32,
   "metadata": {},
   "outputs": [
    {
     "name": "stdout",
     "output_type": "stream",
     "text": [
      "[[3 9 3 9 3 9 3 9]\n",
      " [9 3 9 3 9 3 9 3]\n",
      " [3 9 3 9 3 9 3 9]\n",
      " [9 3 9 3 9 3 9 3]\n",
      " [3 9 3 9 3 9 3 9]\n",
      " [9 3 9 3 9 3 9 3]\n",
      " [3 9 3 9 3 9 3 9]\n",
      " [9 3 9 3 9 3 9 3]]\n"
     ]
    }
   ],
   "source": [
    "x = np.full((8,8),3)\n",
    "x[1::2,::2]=9\n",
    "x[::2,1::2]=9\n",
    "print(x)"
   ]
  },
  {
   "cell_type": "code",
   "execution_count": 33,
   "metadata": {},
   "outputs": [],
   "source": [
    "## Q50. Write theNumPy program to create an empty and a full array."
   ]
  },
  {
   "cell_type": "code",
   "execution_count": 34,
   "metadata": {},
   "outputs": [
    {
     "name": "stdout",
     "output_type": "stream",
     "text": [
      "[[7.757e-322 0.000e+000 0.000e+000]\n",
      " [0.000e+000 0.000e+000 3.656e-321]\n",
      " [0.000e+000 0.000e+000 0.000e+000]]\n",
      "[[5 5 5]\n",
      " [5 5 5]\n",
      " [5 5 5]]\n"
     ]
    }
   ],
   "source": [
    "import numpy as np\n",
    "b = np.empty((3,3))\n",
    "print(b)\n",
    "b = np.full((3,3),5)\n",
    "print(b)"
   ]
  },
  {
   "cell_type": "code",
   "execution_count": 1,
   "metadata": {},
   "outputs": [],
   "source": [
    "## Q51. Write theNumPy program to convert the values of Centigradedegrees into the Fahrenheit degrees and the centigrade values are storedintheNumPy array."
   ]
  },
  {
   "cell_type": "code",
   "execution_count": 2,
   "metadata": {},
   "outputs": [
    {
     "name": "stdout",
     "output_type": "stream",
     "text": [
      "Temperatures in Farhenheit:  [ 0.   12.   45.21 34.   99.91]\n",
      "Temperatures in Celcius:  [-17.77777778 -11.11111111   7.33888889   1.11111111  37.72777778]\n"
     ]
    }
   ],
   "source": [
    "import numpy as np\n",
    "data = [ 0, 12, 45.21, 34, 99.91]\n",
    "fa = np.array(data)\n",
    "print(\"Temperatures in Farhenheit: \",fa)\n",
    "ce = (fa-32)/1.8\n",
    "print(\"Temperatures in Celcius: \",ce)"
   ]
  },
  {
   "cell_type": "code",
   "execution_count": 3,
   "metadata": {},
   "outputs": [],
   "source": [
    "##Q52. Write theNumPyprogram to find the real and imaginary parts of an array of complex numbers?"
   ]
  },
  {
   "cell_type": "code",
   "execution_count": 4,
   "metadata": {},
   "outputs": [
    {
     "name": "stdout",
     "output_type": "stream",
     "text": [
      "[1.         0.70710678]\n",
      "[0.         0.70710678]\n"
     ]
    }
   ],
   "source": [
    "import numpy as np\n",
    "x = np.array([ 1.00000000+0.j ,0.70710678+0.70710678j])\n",
    "print(x.real)\n",
    "print(x.imag)"
   ]
  },
  {
   "cell_type": "code",
   "execution_count": 5,
   "metadata": {},
   "outputs": [],
   "source": [
    "## Q53. Write theNumPy program to test whether each element of a 1-D array is also present in thesecond array?"
   ]
  },
  {
   "cell_type": "code",
   "execution_count": 6,
   "metadata": {},
   "outputs": [
    {
     "name": "stdout",
     "output_type": "stream",
     "text": [
      "[ True False False  True False]\n"
     ]
    }
   ],
   "source": [
    "import numpy as np\n",
    "array1=np.array([0 ,10, 20, 40 ,60])\n",
    "array2=np.array([0, 40])\n",
    "array=np.in1d(array1,array2)\n",
    "print(array)"
   ]
  },
  {
   "cell_type": "code",
   "execution_count": 7,
   "metadata": {},
   "outputs": [],
   "source": [
    "## Q54. Write theNumPy program to find common values between two arrays?"
   ]
  },
  {
   "cell_type": "code",
   "execution_count": 11,
   "metadata": {},
   "outputs": [
    {
     "name": "stdout",
     "output_type": "stream",
     "text": [
      "Common elements: [10 40]\n"
     ]
    }
   ],
   "source": [
    "import numpy as np\n",
    "array1=np.array([0 ,10, 20, 40 ,60])\n",
    "array2=np.array([10,30, 40])\n",
    "array= np.intersect1d(array1,array2)\n",
    "print(\"Common elements:\",array)"
   ]
  },
  {
   "cell_type": "code",
   "execution_count": 12,
   "metadata": {},
   "outputs": [],
   "source": [
    "## Q55. Write theNumPy program to get the unique elements of an array?"
   ]
  },
  {
   "cell_type": "code",
   "execution_count": 17,
   "metadata": {},
   "outputs": [
    {
     "name": "stdout",
     "output_type": "stream",
     "text": [
      "Unique elements: [10 20 30]\n",
      "Unique elements: [1 2 3]\n"
     ]
    }
   ],
   "source": [
    "import numpy as np\n",
    "array = np.array([10 ,10 ,20 ,20 ,30 ,30])\n",
    "print(\"Unique elements:\",np.unique(array))\n",
    "array=np.array([[1 ,1],[2 ,3]])\n",
    "print(\"Unique elements:\",np.unique(array))"
   ]
  },
  {
   "cell_type": "code",
   "execution_count": 16,
   "metadata": {},
   "outputs": [],
   "source": [
    "## Q56. Write theNumPy program to find the set exclusive-or of two arrays. Set exclusive-or will return the sorted, unique values that are in only one (not both) of the input arrays?"
   ]
  },
  {
   "cell_type": "code",
   "execution_count": 18,
   "metadata": {},
   "outputs": [
    {
     "name": "stdout",
     "output_type": "stream",
     "text": [
      "Elements in array1 but not in array2: [ 0 20 60 80]\n"
     ]
    }
   ],
   "source": [
    "import numpy as np\n",
    "array1 = np.array([0, 10 ,20 ,40 ,60 ,80])\n",
    "array2 = np.array([10, 30, 40, 50, 70])\n",
    "print(\"Elements in array1 but not in array2:\",np.setdiff1d(array1,array2))"
   ]
  },
  {
   "cell_type": "code",
   "execution_count": 19,
   "metadata": {},
   "outputs": [],
   "source": [
    "## Q57. Write theNumPy program to test if all elements in an array evaluate to True?"
   ]
  },
  {
   "cell_type": "code",
   "execution_count": 20,
   "metadata": {},
   "outputs": [
    {
     "name": "stdout",
     "output_type": "stream",
     "text": [
      "False\n",
      "True\n"
     ]
    }
   ],
   "source": [
    "import numpy as np\n",
    "array = np.array([0, 10 ,20 ,40 ,60 ,80])\n",
    "print(np.all(array))\n",
    "array = np.array([50, 10 ,20 ,40 ,60 ,80])\n",
    "print(np.all(array))"
   ]
  },
  {
   "cell_type": "code",
   "execution_count": 21,
   "metadata": {},
   "outputs": [],
   "source": [
    "## Q58 Write theNumPy program to test whether any array element along thegiven axis evaluates to True?"
   ]
  },
  {
   "cell_type": "code",
   "execution_count": 22,
   "metadata": {},
   "outputs": [
    {
     "name": "stdout",
     "output_type": "stream",
     "text": [
      "True [ 20 -50]\n",
      "False [10  0]\n"
     ]
    }
   ],
   "source": [
    "import numpy as np\n",
    "array = np.array([[10, 20], [0, -50]])\n",
    "print(np.all(array[:,1]),(array[:,1]))\n",
    "print(np.all(array[:,0]),(array[:,0]))"
   ]
  },
  {
   "cell_type": "code",
   "execution_count": 23,
   "metadata": {},
   "outputs": [],
   "source": [
    "## Q59. Write theNumPy program to construct an array by repeating?"
   ]
  },
  {
   "cell_type": "code",
   "execution_count": 24,
   "metadata": {},
   "outputs": [
    {
     "name": "stdout",
     "output_type": "stream",
     "text": [
      "[1 2 3 4]\n",
      "[1 2 3 4 1 2 3 4]\n"
     ]
    }
   ],
   "source": [
    "import numpy as np\n",
    "array = np.array([1,2,3,4])\n",
    "print(array)\n",
    "array1 =np.tile(array,2) \n",
    "print(array1)"
   ]
  },
  {
   "cell_type": "code",
   "execution_count": 25,
   "metadata": {},
   "outputs": [],
   "source": [
    "## Q60. Write theNumPy program to find the indices of the maximum and minimum values withthe given axis of an array?"
   ]
  },
  {
   "cell_type": "code",
   "execution_count": 28,
   "metadata": {},
   "outputs": [
    {
     "name": "stdout",
     "output_type": "stream",
     "text": [
      "Array: [ 0 10 20 40 60 80]\n",
      "Max element: 80\n",
      "Index: 5\n",
      "Min element: 0\n",
      "Index: 0\n"
     ]
    }
   ],
   "source": [
    "import numpy as np\n",
    "array = np.array([0, 10 ,20 ,40 ,60 ,80])\n",
    "print(\"Array:\",array)\n",
    "print(\"Max element:\",array.max())\n",
    "print(\"Index:\",array.argmax())\n",
    "print(\"Min element:\",array.min())\n",
    "print(\"Index:\",array.argmin())"
   ]
  },
  {
   "cell_type": "code",
   "execution_count": 29,
   "metadata": {},
   "outputs": [],
   "source": [
    "## Q61. Write theNumPy program compare two arrays using numpy?\n"
   ]
  },
  {
   "cell_type": "code",
   "execution_count": 30,
   "metadata": {},
   "outputs": [
    {
     "name": "stdout",
     "output_type": "stream",
     "text": [
      "a > b\n",
      "[ True False False False False False]\n",
      "a >= b\n",
      "[ True False False  True False  True]\n",
      "a < b\n",
      "[False  True  True False  True False]\n",
      "a <= b\n",
      "[False  True  True  True  True  True]\n"
     ]
    }
   ],
   "source": [
    "import numpy as np\n",
    "array1 = np.array([0, 10 ,20 ,40 ,60 ,80])\n",
    "array2 = np.array([-10, 45, 40, 40, 90, 80])\n",
    "print(\"a > b\")\n",
    "print(array1>array2)\n",
    "print(\"a >= b\")\n",
    "print(array1>=array2)\n",
    "print(\"a < b\")\n",
    "print(array1<array2)\n",
    "print(\"a <= b\")\n",
    "print(array1<=array2)\n"
   ]
  },
  {
   "cell_type": "code",
   "execution_count": 1,
   "metadata": {},
   "outputs": [],
   "source": [
    "## Q63. Write theNumPyprogram to sort pairs of first name and last name return their indices(first by last name, then by first name)."
   ]
  },
  {
   "cell_type": "code",
   "execution_count": 2,
   "metadata": {},
   "outputs": [
    {
     "name": "stdout",
     "output_type": "stream",
     "text": [
      "[0 1 2 3 4]\n"
     ]
    }
   ],
   "source": [
    "import numpy as np\n",
    "fname = np.array(('Betsey', 'Shelley', 'Lanell', 'Genesis', 'Margery'))\n",
    "lname = np.array(('Battle', 'Brien', 'Plotner', 'Stahl', 'Woolum'))\n",
    "x = np.lexsort((fname,lname))\n",
    "print(x)"
   ]
  },
  {
   "cell_type": "code",
   "execution_count": 3,
   "metadata": {},
   "outputs": [],
   "source": [
    "## Q64. Write theNumPy program to get the values and indices of the elements that are bigger than 10inthegiven array?"
   ]
  },
  {
   "cell_type": "code",
   "execution_count": 5,
   "metadata": {},
   "outputs": [
    {
     "name": "stdout",
     "output_type": "stream",
     "text": [
      "Values bigger than 10: [20 20 30 40]\n",
      "Their indices are: (array([0, 1, 1, 1], dtype=int64), array([2, 0, 1, 2], dtype=int64))\n"
     ]
    }
   ],
   "source": [
    "import numpy as np\n",
    "array = np.array([[0 ,10 ,20],[20 ,30 ,40]])\n",
    "print(\"Values bigger than 10:\",array[array>10])\n",
    "print(\"Their indices are:\",np.where(array>10))"
   ]
  },
  {
   "cell_type": "code",
   "execution_count": 6,
   "metadata": {},
   "outputs": [],
   "source": [
    "## Q65. Write theNumPy program to find the memory size of a NumPy array?"
   ]
  },
  {
   "cell_type": "code",
   "execution_count": 7,
   "metadata": {},
   "outputs": [
    {
     "name": "stdout",
     "output_type": "stream",
     "text": [
      "Memory Size of array 24 bytes\n",
      "Memory Size of array 136\n"
     ]
    }
   ],
   "source": [
    "import numpy as np\n",
    "from sys import getsizeof\n",
    "array = np.array([[0 ,10 ,20],[20 ,30 ,40]])\n",
    "print(\"Memory Size of array\",array.size*array.itemsize,\"bytes\")\n",
    "print(\"Memory Size of array\",getsizeof(array))"
   ]
  },
  {
   "cell_type": "code",
   "execution_count": 8,
   "metadata": {},
   "outputs": [],
   "source": [
    "## Q66. Write theNumPy program to create an arrayof ones and an array of zeros?"
   ]
  },
  {
   "cell_type": "code",
   "execution_count": 9,
   "metadata": {},
   "outputs": [
    {
     "name": "stdout",
     "output_type": "stream",
     "text": [
      "Type is float= [1. 1. 1. 1. 1.]\n",
      "Converting to int= [1 1 1 1 1]\n",
      "Type is int= [1 1 1 1 1]\n",
      "Converting to float= [1. 1. 1. 1. 1.]\n"
     ]
    }
   ],
   "source": [
    "import numpy as np\n",
    "array1 = np.ones(5)\n",
    "print(\"Type is float=\",array1)\n",
    "print(\"Converting to int=\",array1.astype(int))\n",
    "array2 = np.ones(5,dtype=int)\n",
    "print(\"Type is int=\",array2)\n",
    "print(\"Converting to float=\",array1.astype(float))"
   ]
  },
  {
   "cell_type": "code",
   "execution_count": 1,
   "metadata": {},
   "outputs": [],
   "source": [
    "## Q68. Write theNumPy program to create a new shape to an array without changing its data ?"
   ]
  },
  {
   "cell_type": "code",
   "execution_count": 2,
   "metadata": {},
   "outputs": [
    {
     "name": "stdout",
     "output_type": "stream",
     "text": [
      "Original Array: [ 0  1  2  3  4  5  6  7  8  9 10 11 12 13 14 15 16 17]\n",
      "Shape of 6x3\n",
      "[[ 0  1  2]\n",
      " [ 3  4  5]\n",
      " [ 6  7  8]\n",
      " [ 9 10 11]\n",
      " [12 13 14]\n",
      " [15 16 17]]\n",
      "Shape of 3x6\n",
      "[[ 0  1  2  3  4  5]\n",
      " [ 6  7  8  9 10 11]\n",
      " [12 13 14 15 16 17]]\n",
      "Shape of 9x2\n",
      "[[ 0  1]\n",
      " [ 2  3]\n",
      " [ 4  5]\n",
      " [ 6  7]\n",
      " [ 8  9]\n",
      " [10 11]\n",
      " [12 13]\n",
      " [14 15]\n",
      " [16 17]]\n"
     ]
    }
   ],
   "source": [
    "import numpy as np\n",
    "ar = np.arange(18)\n",
    "print(\"Original Array:\",ar)\n",
    "ar = ar.reshape(6,3)\n",
    "print(\"Shape of 6x3\")\n",
    "print(ar)\n",
    "ar = ar.reshape(3,6)\n",
    "print(\"Shape of 3x6\")\n",
    "print(ar)\n",
    "ar = ar.reshape(9,2)\n",
    "print(\"Shape of 9x2\")\n",
    "print(ar)"
   ]
  },
  {
   "cell_type": "code",
   "execution_count": 3,
   "metadata": {},
   "outputs": [],
   "source": [
    "## Q69. Write theNumPy program to create a new array of 3*5, filled with 2?"
   ]
  },
  {
   "cell_type": "code",
   "execution_count": 4,
   "metadata": {},
   "outputs": [
    {
     "name": "stdout",
     "output_type": "stream",
     "text": [
      "[[2 2 2 2 2]\n",
      " [2 2 2 2 2]\n",
      " [2 2 2 2 2]]\n"
     ]
    }
   ],
   "source": [
    "ar = np.full((3,5),2)\n",
    "print(ar)"
   ]
  },
  {
   "cell_type": "code",
   "execution_count": 5,
   "metadata": {},
   "outputs": [],
   "source": [
    "## Q70. Write theNumPyprogram to create a 3-D array with ones on a diagonal and zeros elsewhere?"
   ]
  },
  {
   "cell_type": "code",
   "execution_count": 6,
   "metadata": {},
   "outputs": [
    {
     "name": "stdout",
     "output_type": "stream",
     "text": [
      "original\n",
      " [[0. 0. 0.]\n",
      " [0. 0. 0.]\n",
      " [0. 0. 0.]]\n",
      "new\n",
      " [[1. 0. 0.]\n",
      " [0. 1. 0.]\n",
      " [0. 0. 1.]]\n"
     ]
    }
   ],
   "source": [
    "ar = np.zeros((3,3))\n",
    "print(\"original\\n\",ar)\n",
    "np.fill_diagonal(ar,1)\n",
    "print(\"new\\n\",ar)"
   ]
  },
  {
   "cell_type": "code",
   "execution_count": 7,
   "metadata": {},
   "outputs": [],
   "source": [
    "## Q71. Write theNumPy program to split an array of 14 elements into the 3 arrays and each of which has 2, 4,and 8 elements inoriginal order?"
   ]
  },
  {
   "cell_type": "code",
   "execution_count": 8,
   "metadata": {},
   "outputs": [
    {
     "name": "stdout",
     "output_type": "stream",
     "text": [
      "Original\n",
      " [ 1  2  3  4  5  6  7  8  9 10 11 12 13 14]\n",
      "After split\n",
      " [array([1, 2]), array([3, 4, 5, 6]), array([ 7,  8,  9, 10, 11, 12, 13, 14])]\n"
     ]
    }
   ],
   "source": [
    "ar =np.arange(1,15)\n",
    "print(\"Original\\n\",ar)\n",
    "print(\"After split\\n\",np.split(ar,[2,6]))"
   ]
  },
  {
   "cell_type": "code",
   "execution_count": 9,
   "metadata": {},
   "outputs": [],
   "source": [
    "## Q72. Write theNumPyprogram to split of an array of shape 4x4 it into two arrays along the second axis ?"
   ]
  },
  {
   "cell_type": "code",
   "execution_count": 10,
   "metadata": {},
   "outputs": [
    {
     "name": "stdout",
     "output_type": "stream",
     "text": [
      "Original\n",
      "[[ 0  1  2  3]\n",
      " [ 4  5  6  7]\n",
      " [ 8  9 10 11]\n",
      " [12 13 14 15]]\n",
      "After split along second axis\n",
      "[array([[ 0,  1],\n",
      "       [ 4,  5],\n",
      "       [ 8,  9],\n",
      "       [12, 13]]), array([[ 2,  3],\n",
      "       [ 6,  7],\n",
      "       [10, 11],\n",
      "       [14, 15]]), array([], shape=(4, 0), dtype=int32)]\n"
     ]
    }
   ],
   "source": [
    "ar = np.arange(16).reshape(4,4)\n",
    "print(\"Original\")\n",
    "print(ar)\n",
    "print(\"After split along second axis\")\n",
    "print(np.split(ar,[2,6],axis=1))"
   ]
  },
  {
   "cell_type": "code",
   "execution_count": 1,
   "metadata": {},
   "outputs": [],
   "source": [
    "## Q73. Write the NumPy program to create a 5x5 matrix with row values ranging from 0 to 4?"
   ]
  },
  {
   "cell_type": "code",
   "execution_count": 2,
   "metadata": {},
   "outputs": [
    {
     "name": "stdout",
     "output_type": "stream",
     "text": [
      "Original\n",
      "[[0. 0. 0. 0. 0.]\n",
      " [0. 0. 0. 0. 0.]\n",
      " [0. 0. 0. 0. 0.]\n",
      " [0. 0. 0. 0. 0.]\n",
      " [0. 0. 0. 0. 0.]]\n",
      "[[0. 1. 2. 3. 4.]\n",
      " [0. 1. 2. 3. 4.]\n",
      " [0. 1. 2. 3. 4.]\n",
      " [0. 1. 2. 3. 4.]\n",
      " [0. 1. 2. 3. 4.]]\n"
     ]
    }
   ],
   "source": [
    "import numpy as np\n",
    "ar = np.zeros((5,5))\n",
    "print(\"Original\")\n",
    "print(ar)\n",
    "ar+=np.arange(5)\n",
    "print(ar)"
   ]
  },
  {
   "cell_type": "code",
   "execution_count": 3,
   "metadata": {},
   "outputs": [],
   "source": [
    "##Q74. Write the NumPy program to create an array of zeros and threecolumn types (integer, float, character)?\n"
   ]
  },
  {
   "cell_type": "code",
   "execution_count": 6,
   "metadata": {},
   "outputs": [
    {
     "name": "stdout",
     "output_type": "stream",
     "text": [
      "[(1, 1., b'manoj kumar') (2, 2., b'fname lname') (3, 3., b'joker wayne')]\n",
      "<class 'numpy.ndarray'>\n"
     ]
    }
   ],
   "source": [
    "import numpy as np\n",
    "x = np.zeros((3,), dtype=('i4,f4,a40'))\n",
    "new_data = [(1, 1., \"manoj kumar\"), (2, 2., \"fname lname\"), (3, 3., \"joker wayne\")]\n",
    "x[:] = new_data\n",
    "print(x)\n",
    "print(type(x))"
   ]
  },
  {
   "cell_type": "code",
   "execution_count": 8,
   "metadata": {},
   "outputs": [],
   "source": [
    "## Q75. Write the NumPy program to remove the negative values in the numpy array with 0?"
   ]
  },
  {
   "cell_type": "code",
   "execution_count": 9,
   "metadata": {},
   "outputs": [
    {
     "name": "stdout",
     "output_type": "stream",
     "text": [
      "Orginal:\t\t       [ -1 -33  78  46 -34  -4   3   5  67  23]\n",
      "ConZverting negative to zeros: [ 0  0 78 46  0  0  3  5 67 23]\n"
     ]
    }
   ],
   "source": [
    "import numpy as np\n",
    "ar = np.array([-1,23 -56,78,46,-34,-4,3,5,67,23])\n",
    "print(\"Orginal:\\t\\t      \",ar)\n",
    "ar[ar<0]=0\n",
    "print(\"ConZverting negative to zeros:\",ar)"
   ]
  },
  {
   "cell_type": "code",
   "execution_count": 10,
   "metadata": {},
   "outputs": [],
   "source": [
    "## Q76. Write the NumPy program to compute the histogram of a set of data?"
   ]
  },
  {
   "cell_type": "code",
   "execution_count": 14,
   "metadata": {},
   "outputs": [
    {
     "data": {
      "text/plain": [
       "(array([3., 2., 3., 1., 5., 2., 5.]),\n",
       " array([0, 1, 2, 3, 4, 5, 6, 7]),\n",
       " <a list of 7 Patch objects>)"
      ]
     },
     "execution_count": 14,
     "metadata": {},
     "output_type": "execute_result"
    },
    {
     "data": {
      "image/png": "[encoded data removed]",
      "text/plain": [
       "<Figure size 432x288 with 1 Axes>"
      ]
     },
     "metadata": {
      "needs_background": "light"
     },
     "output_type": "display_data"
    }
   ],
   "source": [
    "import numpy as np\n",
    "import matplotlib.pyplot as plt\n",
    "plt.hist([0,0,0,1,3,5,4,4,4,4,4,1,2,2,2,5,6,7,6,7,7], bins=[0, 1, 2, 3,4,5,6,7])\n",
    "#plt.show()"
   ]
  },
  {
   "cell_type": "code",
   "execution_count": 15,
   "metadata": {},
   "outputs": [],
   "source": [
    "## Q77. Write the NumPy program to compute the line graph of a set of data?"
   ]
  },
  {
   "cell_type": "code",
   "execution_count": 17,
   "metadata": {},
   "outputs": [
    {
     "data": {
      "text/plain": [
       "Text(0.5, 1.0, 'Line Graph')"
      ]
     },
     "execution_count": 17,
     "metadata": {},
     "output_type": "execute_result"
    },
    {
     "data": {
      "image/png": "[encoded data removed]",
      "text/plain": [
       "<Figure size 432x288 with 1 Axes>"
      ]
     },
     "metadata": {
      "needs_background": "light"
     },
     "output_type": "display_data"
    }
   ],
   "source": [
    "import matplotlib.pyplot as plt\n",
    "y= [1,4,3,5,1,4,3]\n",
    "x= [1,2,3,4,5,6,7]\n",
    "plt.plot(x,y)\n",
    "plt.xlabel(\"X\")\n",
    "plt.ylabel(\"Y\")\n",
    "plt.title(\"Line Graph\")"
   ]
  },
  {
   "cell_type": "code",
   "execution_count": 18,
   "metadata": {},
   "outputs": [],
   "source": [
    "## Q78. Write the NumPy program to extracts all the elements from second row from given (4x4) array?"
   ]
  },
  {
   "cell_type": "code",
   "execution_count": 19,
   "metadata": {},
   "outputs": [
    {
     "name": "stdout",
     "output_type": "stream",
     "text": [
      "Array\n",
      "[[ 0  1  2  3]\n",
      " [ 4  5  6  7]\n",
      " [ 8  9 10 11]\n",
      " [12 13 14 15]]\n",
      "2nd row: [4 5 6 7]\n"
     ]
    }
   ],
   "source": [
    "import numpy as np\n",
    "ar = np.arange(16).reshape(4,4)\n",
    "print(\"Array\")\n",
    "print(ar)\n",
    "row = ar[1]\n",
    "print(\"2nd row:\",row)"
   ]
  },
  {
   "cell_type": "code",
   "execution_count": 20,
   "metadata": {},
   "outputs": [],
   "source": [
    "## Q79. Write the NumPy program to extract first element of the second row and fourth element of fourth row from a given (4x4) array? "
   ]
  },
  {
   "cell_type": "code",
   "execution_count": 21,
   "metadata": {},
   "outputs": [
    {
     "name": "stdout",
     "output_type": "stream",
     "text": [
      "Array\n",
      "[[ 0  1  2  3]\n",
      " [ 4  5  6  7]\n",
      " [ 8  9 10 11]\n",
      " [12 13 14 15]]\n"
     ]
    },
    {
     "data": {
      "text/plain": [
       "array([ 4, 15])"
      ]
     },
     "execution_count": 21,
     "metadata": {},
     "output_type": "execute_result"
    }
   ],
   "source": [
    "import numpy as np\n",
    "ar = np.arange(16).reshape(4,4)\n",
    "print(\"Array\")\n",
    "print(ar)\n",
    "data= ar[[1,3],[0,3]]\n",
    "data"
   ]
  },
  {
   "cell_type": "code",
   "execution_count": 23,
   "metadata": {},
   "outputs": [],
   "source": [
    "## Q80. Write the NumPy program to add two arrays A and B of sizes (3,3) and (,3)?"
   ]
  },
  {
   "cell_type": "code",
   "execution_count": 24,
   "metadata": {},
   "outputs": [
    {
     "name": "stdout",
     "output_type": "stream",
     "text": [
      "array 1\n",
      "[[0 1 2]\n",
      " [3 4 5]\n",
      " [6 7 8]]\n",
      "array 2\n",
      "[0 1 2]\n",
      "ar1+ar2\n",
      "[[ 0  2  4]\n",
      " [ 3  5  7]\n",
      " [ 6  8 10]]\n"
     ]
    }
   ],
   "source": [
    "import numpy as np\n",
    "ar1 = np.arange(9).reshape(3,3)\n",
    "print(\"array 1\")\n",
    "print(ar1)\n",
    "ar2 = np.arange(3)\n",
    "print(\"array 2\")\n",
    "print(ar2)\n",
    "print(\"ar1+ar2\")\n",
    "print(ar1+ar2)"
   ]
  },
  {
   "cell_type": "code",
   "execution_count": 25,
   "metadata": {},
   "outputs": [],
   "source": [
    "## Q81. Write the NumPy program to copy data from a given array toanother array?"
   ]
  },
  {
   "cell_type": "code",
   "execution_count": 26,
   "metadata": {},
   "outputs": [
    {
     "name": "stdout",
     "output_type": "stream",
     "text": [
      "Orgina: [24 27 30 29 18 14]\n",
      "Copied array: [24 27 30 29 18 14]\n"
     ]
    }
   ],
   "source": [
    "import numpy as np\n",
    "ar1 = np.array([24 ,27 ,30, 29 ,18 ,14])\n",
    "print(\"Orgina:\",ar1)\n",
    "ar2 = np.copy(ar1)\n",
    "print(\"Copied array:\",ar2)"
   ]
  },
  {
   "cell_type": "code",
   "execution_count": 1,
   "metadata": {},
   "outputs": [],
   "source": [
    "## Q82. Write the NumPy program to calculate the sum of all columns of the 2D numpy array?\n"
   ]
  },
  {
   "cell_type": "code",
   "execution_count": 2,
   "metadata": {},
   "outputs": [
    {
     "name": "stdout",
     "output_type": "stream",
     "text": [
      "Sum: [54 58 62 66 70 74 78 82 86]\n"
     ]
    }
   ],
   "source": [
    "import numpy as np\n",
    "ar = np.arange(36).reshape(4,9)\n",
    "print(\"Sum:\",np.sum(ar,axis=0))"
   ]
  },
  {
   "cell_type": "code",
   "execution_count": 3,
   "metadata": {},
   "outputs": [],
   "source": [
    "## Q83. Write the NumPy program to calculate averages without NaNs along the given array?\n"
   ]
  },
  {
   "cell_type": "code",
   "execution_count": 4,
   "metadata": {},
   "outputs": [
    {
     "name": "stdout",
     "output_type": "stream",
     "text": [
      "Average without nan values: [20. 45.  6. nan]\n"
     ]
    },
    {
     "name": "stderr",
     "output_type": "stream",
     "text": [
      "C:\\ProgramData\\Anaconda3\\lib\\site-packages\\ipykernel_launcher.py:4: RuntimeWarning: Mean of empty slice\n",
      "  after removing the cwd from sys.path.\n"
     ]
    }
   ],
   "source": [
    "import numpy as np\n",
    "ar = np.array([[10,20,30],[40,50,0],[0,6,0],[0,0,0]],dtype=float)\n",
    "ar[ar==0]=np.nan\n",
    "print(\"Average without nan values:\",np.nanmean(ar,axis=1))"
   ]
  },
  {
   "cell_type": "code",
   "execution_count": 5,
   "metadata": {},
   "outputs": [],
   "source": [
    "## Q84. Create two arrays of six elements. Write the NumPy program tocount the number of instances of a value occurring in one array on the condition of another array."
   ]
  },
  {
   "cell_type": "code",
   "execution_count": 6,
   "metadata": {},
   "outputs": [
    {
     "name": "stdout",
     "output_type": "stream",
     "text": [
      "array1: [ 10 -10  10 -10 -10  10]\n",
      "array2: [0.85 0.45 0.9  0.8  0.12 0.6 ]\n",
      "Number of instances of a -10 occurring in one array on the condition of another array that ar2>0: 3\n"
     ]
    }
   ],
   "source": [
    "import numpy as np\n",
    "ar1 = np.array([ 10 ,-10, 10 ,-10, -10, 10])\n",
    "ar2 = np.array([0.85, 0.45, 0.9, 0.8, 0.12, 0.6])\n",
    "print(\"array1:\",ar1)\n",
    "print(\"array2:\",ar2)\n",
    "res = np.sum((ar1==-10) & (ar2>0))\n",
    "print(\"Number of instances of a -10 occurring in one array on the condition of another array that ar2>0:\",res)"
   ]
  },
  {
   "cell_type": "code",
   "execution_count": 7,
   "metadata": {},
   "outputs": [],
   "source": [
    "## Q85. Write the NumPy program to convert a Python dictionary to a Numpy ndarray ?\n"
   ]
  },
  {
   "cell_type": "code",
   "execution_count": 8,
   "metadata": {},
   "outputs": [
    {
     "name": "stdout",
     "output_type": "stream",
     "text": [
      "Dictionary: {\"column0\":{\"a\":1,\"b\":0.0,\"c\":0.0,\"d\":2.0},\n",
      "   \"column1\":{\"a\":3.0,\"b\":1,\"c\":0.0,\"d\":-1.0},\n",
      "   \"column2\":{\"a\":4,\"b\":1,\"c\":5.0,\"d\":-1.0},\n",
      "   \"column3\":{\"a\":3.0,\"b\":-1.0,\"c\":-1.0,\"d\":-1.0}\n",
      "  }\n",
      "\n",
      "\n",
      "dic values as numpy array\n",
      "[[ 1.  0.  0.  2.]\n",
      " [ 3.  1.  0. -1.]\n",
      " [ 4.  1.  5. -1.]\n",
      " [ 3. -1. -1. -1.]]\n",
      "<class 'numpy.ndarray'>\n"
     ]
    }
   ],
   "source": [
    "import numpy as np\n",
    "from ast import literal_eval\n",
    "dic = \"\"\"{\"column0\":{\"a\":1,\"b\":0.0,\"c\":0.0,\"d\":2.0},\n",
    "   \"column1\":{\"a\":3.0,\"b\":1,\"c\":0.0,\"d\":-1.0},\n",
    "   \"column2\":{\"a\":4,\"b\":1,\"c\":5.0,\"d\":-1.0},\n",
    "   \"column3\":{\"a\":3.0,\"b\":-1.0,\"c\":-1.0,\"d\":-1.0}\n",
    "  }\"\"\"\n",
    "print(\"Dictionary:\",dic)\n",
    "ite = literal_eval(dic)\n",
    "array= np.array([[v[j] for j in ['a','b','c','d']]  for k,v in ite.items()])\n",
    "print(\"\\n\\ndic values as numpy array\")\n",
    "print(array)\n",
    "print(type(array))"
   ]
  },
  {
   "cell_type": "code",
   "execution_count": 9,
   "metadata": {},
   "outputs": [],
   "source": [
    "## Q86. Write the Numpy program to find and store the non-zero uniquerows in an array after comparing each row with other row in thegiven matrix?\n"
   ]
  },
  {
   "cell_type": "code",
   "execution_count": 10,
   "metadata": {},
   "outputs": [
    {
     "name": "stdout",
     "output_type": "stream",
     "text": [
      "Original array\n",
      "[[ 1  1  0]\n",
      " [ 0  0  0]\n",
      " [ 0  2  3]\n",
      " [ 0  0  0]\n",
      " [ 0 -1  1]\n",
      " [ 0  0  0]]\n",
      "Non-zero unique rows-\n",
      "[[ 1  1  0]\n",
      " [ 0  2  3]\n",
      " [ 0 -1  1]]\n"
     ]
    }
   ],
   "source": [
    "import numpy as np\n",
    "ar = np.array([[1,1,0],[0,0,0],[0,2,3],[0,0,0],[0,-1,1],[0,0,0]])\n",
    "print(\"Original array\")\n",
    "print(ar)\n",
    "ar1 = []\n",
    "for row in ar:\n",
    "    if row.any() not in [0,0,0]:\n",
    "        ar1.append(row)\n",
    "\n",
    "ar1 = np.asarray(ar1)   \n",
    "print(\"Non-zero unique rows-\")\n",
    "print(ar1)"
   ]
  },
  {
   "cell_type": "code",
   "execution_count": 11,
   "metadata": {},
   "outputs": [],
   "source": [
    "## Q87. Write the NumPy program to multiply the matrix by another matrixof complex numbers and create a new matrix of complex?\n"
   ]
  },
  {
   "cell_type": "code",
   "execution_count": 12,
   "metadata": {},
   "outputs": [
    {
     "name": "stdout",
     "output_type": "stream",
     "text": [
      "Result of multiplication of ar1 and ar2:\n",
      "(70-8j)\n"
     ]
    }
   ],
   "source": [
    "import numpy as np\n",
    "ar1 = np.array([1+2j,3+4j])\n",
    "ar2 = np.array([5+6j,7+8j])\n",
    "ar3 = np.vdot(ar1,ar2)\n",
    "print(\"Result of multiplication of ar1 and ar2:\")\n",
    "print(ar3)"
   ]
  },
  {
   "cell_type": "code",
   "execution_count": 13,
   "metadata": {},
   "outputs": [],
   "source": [
    "## Q88. Write a NumPy program to generate the matrix product of two Arrays?\n"
   ]
  },
  {
   "cell_type": "code",
   "execution_count": 14,
   "metadata": {},
   "outputs": [
    {
     "data": {
      "text/plain": [
       "array([[3, 1],\n",
       "       [5, 3]])"
      ]
     },
     "execution_count": 14,
     "metadata": {},
     "output_type": "execute_result"
    }
   ],
   "source": [
    "import numpy as np\n",
    "ar1 = np.array([[1,0],[1,1]])\n",
    "ar2 = np.array([[3,1],[2,2]])\n",
    "ar3 = np.matmul(ar1,ar2)\n",
    "ar3"
   ]
  },
  {
   "cell_type": "code",
   "execution_count": 16,
   "metadata": {},
   "outputs": [],
   "source": [
    "## Q89. Write the NumPy program to find roots of the following Polynomials?\n"
   ]
  },
  {
   "cell_type": "code",
   "execution_count": 17,
   "metadata": {},
   "outputs": [
    {
     "name": "stdout",
     "output_type": "stream",
     "text": [
      "Roots of a) (x2- 4x + 7):\n",
      "[2.+1.73205081j 2.-1.73205081j]\n",
      "Roots of b) x4- 11x3 + 9x2 + 11x - 10:\n",
      "[10.+0.0000000e+00j -1.+0.0000000e+00j  1.+9.6357437e-09j\n",
      "  1.-9.6357437e-09j]\n"
     ]
    }
   ],
   "source": [
    "import numpy as np\n",
    "a = [1,-4,7]\n",
    "res1= np.roots(a)\n",
    "print(\"Roots of a) (x2- 4x + 7):\")\n",
    "print(res1)\n",
    "b = [1,-11,9,11,-10]\n",
    "print(\"Roots of b) x4- 11x3 + 9x2 + 11x - 10:\")\n",
    "res2 = np.roots(b)\n",
    "print(res2)"
   ]
  },
  {
   "cell_type": "code",
   "execution_count": 18,
   "metadata": {},
   "outputs": [],
   "source": [
    "## Q90. Write the NumPy program to calculate inverse of sine, cosine, and inverse tangent for all elements in a given array?"
   ]
  },
  {
   "cell_type": "code",
   "execution_count": 19,
   "metadata": {},
   "outputs": [
    {
     "name": "stdout",
     "output_type": "stream",
     "text": [
      "Sine of ar: [ 0.84147098  0.90929743  0.14112001 -0.7568025  -0.95892427]\n",
      "Cosine of ar: [ 0.54030231 -0.41614684 -0.9899925  -0.65364362  0.28366219]\n",
      "Inverse Tangent of ar: [0.78539816 1.10714872 1.24904577 1.32581766 1.37340077]\n"
     ]
    }
   ],
   "source": [
    "import numpy as np\n",
    "ar = np.array([1,2,3,4,5])\n",
    "print(\"Sine of ar:\",np.sin(ar))\n",
    "print(\"Cosine of ar:\",np.cos(ar))\n",
    "print(\"Inverse Tangent of ar:\",np.arctan(ar))"
   ]
  },
  {
   "cell_type": "code",
   "execution_count": 1,
   "metadata": {},
   "outputs": [],
   "source": [
    "##  Q91. Write the NumPy program to calculate the difference between in neighbouring elements, element-wise of a given array?\n"
   ]
  },
  {
   "cell_type": "code",
   "execution_count": 2,
   "metadata": {},
   "outputs": [
    {
     "name": "stdout",
     "output_type": "stream",
     "text": [
      "[ 2  2  2 -7]\n"
     ]
    }
   ],
   "source": [
    "import numpy as np\n",
    "ar = np.array([1,3,5,7,0])\n",
    "print(np.diff(ar))"
   ]
  },
  {
   "cell_type": "code",
   "execution_count": 3,
   "metadata": {},
   "outputs": [],
   "source": [
    "## Q92. Write the Python program to find the maximum and the minimum value of a given flattened array?\n"
   ]
  },
  {
   "cell_type": "code",
   "execution_count": 4,
   "metadata": {},
   "outputs": [
    {
     "name": "stdout",
     "output_type": "stream",
     "text": [
      "Maximum value of the above flattened array: 3\n",
      "Minimum value of the above flattened array 0\n"
     ]
    }
   ],
   "source": [
    "import numpy as np\n",
    "ar = np.array([[0,1],[2,3]])\n",
    "print(\"Maximum value of the above flattened array:\",np.amax(ar))\n",
    "print(\"Minimum value of the above flattened array\",np.amin(ar))"
   ]
  },
  {
   "cell_type": "code",
   "execution_count": 5,
   "metadata": {},
   "outputs": [],
   "source": [
    "## Q93. Write the NumPy program to calculate the difference between in the maximum and the minimum values of a given array along the second axis ?"
   ]
  },
  {
   "cell_type": "code",
   "execution_count": 6,
   "metadata": {},
   "outputs": [
    {
     "name": "stdout",
     "output_type": "stream",
     "text": [
      "Maximum value of the above array: [ 5 11]\n",
      "Minimum value of the above array: [0 6]\n",
      "Diff between max and min  [5 5]\n"
     ]
    }
   ],
   "source": [
    "import numpy as np\n",
    "ar = np.arange(12).reshape(2,6)\n",
    "print(\"Maximum value of the above array:\",np.amax(ar,1))\n",
    "print(\"Minimum value of the above array:\",np.amin(ar,1))\n",
    "print(\"Diff between max and min \",np.amax(ar,1)-np.min(ar,1))"
   ]
  },
  {
   "cell_type": "code",
   "execution_count": 7,
   "metadata": {},
   "outputs": [],
   "source": [
    "## Q94. Write the NumPy program to compute the weighted of the given array ?"
   ]
  },
  {
   "cell_type": "code",
   "execution_count": 8,
   "metadata": {},
   "outputs": [
    {
     "name": "stdout",
     "output_type": "stream",
     "text": [
      "Weighted average of the said array: 2.6666666666666665\n"
     ]
    }
   ],
   "source": [
    "import numpy as np\n",
    "ar = np.arange(5)\n",
    "weights = np.arange(1, 6)\n",
    "print(\"Weighted average of the said array:\",np.average(ar,weights=weights ))"
   ]
  },
  {
   "cell_type": "code",
   "execution_count": 9,
   "metadata": {},
   "outputs": [],
   "source": [
    "## Q95. Write the NumPy program to compute the mean, standarddeviation, and the variance of a given array along the second axis?\n"
   ]
  },
  {
   "cell_type": "code",
   "execution_count": 13,
   "metadata": {},
   "outputs": [
    {
     "name": "stdout",
     "output_type": "stream",
     "text": [
      "Mean: 2.5\n",
      "Standard deviation: 1\n",
      "variance: 2.9166666666666665\n"
     ]
    }
   ],
   "source": [
    "import numpy as np\n",
    "ar = np.arange(6)\n",
    "print(\"Mean:\",np.mean(ar))\n",
    "print(\"Standard deviation:\",1)\n",
    "print(\"variance:\",np.var(ar))"
   ]
  },
  {
   "cell_type": "code",
   "execution_count": 15,
   "metadata": {},
   "outputs": [],
   "source": [
    "## Q96. Write the Numpy program to compute the covariance matrix of the two given arrays?"
   ]
  },
  {
   "cell_type": "code",
   "execution_count": 16,
   "metadata": {},
   "outputs": [
    {
     "name": "stdout",
     "output_type": "stream",
     "text": [
      "Covariance matrix of the said arrays-\n",
      "[[ 1. -1.]\n",
      " [-1.  1.]]\n"
     ]
    }
   ],
   "source": [
    "import numpy as np\n",
    "a1 = np.array([0,1,2])\n",
    "a2 =np.array([2,1,0])\n",
    "print(\"Covariance matrix of the said arrays-\")\n",
    "print(np.cov(a1,a2))"
   ]
  },
  {
   "cell_type": "code",
   "execution_count": 17,
   "metadata": {},
   "outputs": [],
   "source": [
    "## Q97. Write a NumPy program to compute the cross-correlation of two given arrays ?"
   ]
  },
  {
   "cell_type": "code",
   "execution_count": 21,
   "metadata": {},
   "outputs": [
    {
     "name": "stdout",
     "output_type": "stream",
     "text": [
      "Cross-correlation of the said arrays-\n",
      "[[2.33333333 2.16666667]\n",
      " [2.16666667 2.33333333]] <--This is covariance\n",
      "[19] <--this is Cross-correlation\n"
     ]
    }
   ],
   "source": [
    "import numpy as np\n",
    "a1 = np.array([0,1,3])\n",
    "a2 =np.array([2,4,5])\n",
    "print(\"Cross-correlation of the said arrays-\")\n",
    "print(np.cov(a1,a2),\"<--This is covariance\")\n",
    "print(np.correlate(a1,a2),\"<--this is Cross-correlation\")"
   ]
  },
  {
   "cell_type": "code",
   "execution_count": 22,
   "metadata": {},
   "outputs": [],
   "source": [
    "## Q98. Write the NumPy program to compute Pearson product-moment correlation coefficients of two given arrays?"
   ]
  },
  {
   "cell_type": "code",
   "execution_count": 23,
   "metadata": {},
   "outputs": [
    {
     "name": "stdout",
     "output_type": "stream",
     "text": [
      "Pearson product-moment correlation coefficients of the said arrays-\n",
      "[[1.         0.92857143]\n",
      " [0.92857143 1.        ]]\n"
     ]
    }
   ],
   "source": [
    "import numpy as np\n",
    "a1 = np.array([0,1,3])\n",
    "a2 =np.array([2,4,5])\n",
    "print(\"Pearson product-moment correlation coefficients of the said arrays-\")\n",
    "print(np.corrcoef(a1,a2))"
   ]
  },
  {
   "cell_type": "code",
   "execution_count": 26,
   "metadata": {},
   "outputs": [],
   "source": [
    "##  Q99.the python program to count the number of occurrences of each value in a given array of non-negative integers?\n"
   ]
  },
  {
   "cell_type": "code",
   "execution_count": 27,
   "metadata": {},
   "outputs": [
    {
     "name": "stdout",
     "output_type": "stream",
     "text": [
      "Number of occurrences of each value in array-\n",
      "[1 3 2 0 1 0 1 1]\n"
     ]
    }
   ],
   "source": [
    "import numpy as np\n",
    "a1 = np.array([0, 1, 6, 1, 4, 1, 2, 2, 7])\n",
    "print(\"Number of occurrences of each value in array-\")\n",
    "print(np.bincount(a1))"
   ]
  },
  {
   "cell_type": "code",
   "execution_count": 28,
   "metadata": {},
   "outputs": [],
   "source": [
    "## Q100. Write a Numpy program to compute the histogram of nums against the bins?"
   ]
  },
  {
   "cell_type": "code",
   "execution_count": 31,
   "metadata": {},
   "outputs": [
    {
     "data": {
      "text/plain": [
       "(array([2., 3., 1.]), array([0, 1, 2, 3]), <a list of 3 Patch objects>)"
      ]
     },
     "execution_count": 31,
     "metadata": {},
     "output_type": "execute_result"
    },
    {
     "data": {
      "image/png": "[encoded data removed]",
      "text/plain": [
       "<Figure size 432x288 with 1 Axes>"
      ]
     },
     "metadata": {
      "needs_background": "light"
     },
     "output_type": "display_data"
    }
   ],
   "source": [
    "import numpy as np\n",
    "import matplotlib.pyplot as plt\n",
    "a1 = np.array([0.5, 0.7, 1., 1.2, 1.3, 2.1])\n",
    "bins = [0,1,2,3]\n",
    "plt.hist(a1,bins)\n"
   ]
  },
  {
   "cell_type": "code",
   "execution_count": 1,
   "metadata": {},
   "outputs": [],
   "source": [
    "##Q101. Write thePython program to add, subtract, multiplyand divide two pandas series"
   ]
  },
  {
   "cell_type": "code",
   "execution_count": 2,
   "metadata": {},
   "outputs": [
    {
     "name": "stdout",
     "output_type": "stream",
     "text": [
      "Addition:\n",
      "0     3\n",
      "1     7\n",
      "2    11\n",
      "3    15\n",
      "4    19\n",
      "dtype: int64\n",
      "Subtraction:\n",
      "0    1\n",
      "1    1\n",
      "2    1\n",
      "3    1\n",
      "4    1\n",
      "dtype: int64\n",
      "Multiplication:\n",
      "0     2\n",
      "1    12\n",
      "2    30\n",
      "3    56\n",
      "4    90\n",
      "dtype: int64\n",
      "Division:\n",
      "0    2.000000\n",
      "1    1.333333\n",
      "2    1.200000\n",
      "3    1.142857\n",
      "4    1.111111\n",
      "dtype: float64\n"
     ]
    }
   ],
   "source": [
    "import pandas as pd\n",
    "a = pd.Series([2,4,6,8,10])\n",
    "b = pd.Series([1,3,5,7,9])\n",
    "print(\"Addition:\")\n",
    "print(a+b)\n",
    "print(\"Subtraction:\")\n",
    "print(a-b)\n",
    "print(\"Multiplication:\")\n",
    "print(a*b)\n",
    "print(\"Division:\")\n",
    "print(a/b)"
   ]
  },
  {
   "cell_type": "code",
   "execution_count": 3,
   "metadata": {},
   "outputs": [],
   "source": [
    "## Q102.Write a Python program to convert a dictionary to thePandas Series?"
   ]
  },
  {
   "cell_type": "code",
   "execution_count": 4,
   "metadata": {},
   "outputs": [
    {
     "name": "stdout",
     "output_type": "stream",
     "text": [
      "Original Dictionary: {'a': 100, 'b': 200, 'c': 300, 'd': 400, 'e': 800}\n",
      "Dictionary to Panda series:\n",
      "a    100\n",
      "b    200\n",
      "c    300\n",
      "d    400\n",
      "e    800\n",
      "dtype: int64\n"
     ]
    }
   ],
   "source": [
    "import pandas as pd\n",
    "dic = {'a': 100, 'b':200, 'c': 300, 'd': 400, 'e': 800}\n",
    "a = pd.Series(dic)\n",
    "print(\"Original Dictionary:\",dic)\n",
    "print(\"Dictionary to Panda series:\")\n",
    "print(a)"
   ]
  },
  {
   "cell_type": "code",
   "execution_count": 5,
   "metadata": {},
   "outputs": [],
   "source": [
    "## Q103.Write a python program to change the data typeof given a column or a Series?"
   ]
  },
  {
   "cell_type": "code",
   "execution_count": 6,
   "metadata": {},
   "outputs": [
    {
     "name": "stdout",
     "output_type": "stream",
     "text": [
      "Original data series:\n",
      "0         2\n",
      "1     4.615\n",
      "2         6\n",
      "3    string\n",
      "4        10\n",
      "dtype: object\n",
      "Datatype as integer only:\n",
      "0     2.000\n",
      "1     4.615\n",
      "2     6.000\n",
      "3       NaN\n",
      "4    10.000\n",
      "dtype: float64\n"
     ]
    }
   ],
   "source": [
    "import pandas as pd\n",
    "a = pd.Series([2,'4.615','6','string','10'])\n",
    "print(\"Original data series:\")\n",
    "print(a)\n",
    "print(\"Datatype as integer only:\")\n",
    "s = pd.to_numeric(a,errors=\"coerce\")\n",
    "print(s)"
   ]
  },
  {
   "cell_type": "code",
   "execution_count": 7,
   "metadata": {},
   "outputs": [],
   "source": [
    "## Q104. Write the python pandas program to convert the first column of a DataFrame as a Series?"
   ]
  },
  {
   "cell_type": "code",
   "execution_count": 8,
   "metadata": {},
   "outputs": [
    {
     "name": "stdout",
     "output_type": "stream",
     "text": [
      "Original Dataframe\n",
      "   col1  col2  col3\n",
      "0     1     4     7\n",
      "1     2     5     5\n",
      "2     3     6     8\n",
      "3     4     9    12\n",
      "4     7     5     1\n",
      "5    11     0    11\n",
      "<class 'pandas.core.frame.DataFrame'>\n",
      "First col as series\n",
      "0     1\n",
      "1     2\n",
      "2     3\n",
      "3     4\n",
      "4     7\n",
      "5    11\n",
      "Name: col1, dtype: int64\n",
      "<class 'pandas.core.series.Series'>\n"
     ]
    }
   ],
   "source": [
    "import pandas as pd\n",
    "df = pd.DataFrame({'col1': [1, 2, 3, 4, 7, 11], 'col2': [4, 5, 6, 9, 5, 0], 'col3': [7, 5, 8, 12, 1,11]})\n",
    "ser = df['col1']\n",
    "print(\"Original Dataframe\")\n",
    "print(df)\n",
    "print(type(df))\n",
    "print(\"First col as series\")\n",
    "print(ser)\n",
    "print(type(ser))"
   ]
  },
  {
   "cell_type": "code",
   "execution_count": 9,
   "metadata": {},
   "outputs": [],
   "source": [
    "## Q105. Write a pandas program to create the mean and standard deviation of the data of a given Series?"
   ]
  },
  {
   "cell_type": "code",
   "execution_count": 10,
   "metadata": {},
   "outputs": [
    {
     "name": "stdout",
     "output_type": "stream",
     "text": [
      "Series:\n",
      "0     1\n",
      "1     2\n",
      "2     3\n",
      "3     4\n",
      "4     5\n",
      "5     6\n",
      "6     7\n",
      "7     8\n",
      "8     9\n",
      "9     5\n",
      "10    3\n",
      "dtype: int64\n",
      "Mean of said series\n",
      "4.818181818181818\n",
      "Standard deviation of said series\n",
      "2.522624895547565\n"
     ]
    }
   ],
   "source": [
    "import pandas as pd\n",
    "ser = pd.Series([1,2,3,4,5,6,7,8,9,5,3])\n",
    "print(\"Series:\")\n",
    "print(ser)\n",
    "print(\"Mean of said series\")\n",
    "print(ser.mean())\n",
    "print(\"Standard deviation of said series\")\n",
    "print(ser.std())"
   ]
  },
  {
   "cell_type": "code",
   "execution_count": 11,
   "metadata": {},
   "outputs": [],
   "source": [
    "## Q106.Write a pandas program to getpowers of an array values element-wise?"
   ]
  },
  {
   "cell_type": "code",
   "execution_count": 12,
   "metadata": {},
   "outputs": [
    {
     "name": "stdout",
     "output_type": "stream",
     "text": [
      "    X   Y   Z\n",
      "0  78  84  86\n",
      "1  85  94  97\n",
      "2  96  89  96\n",
      "3  80  83  72\n",
      "4  86  86  83\n"
     ]
    }
   ],
   "source": [
    "import pandas as pd\n",
    "ser = pd.DataFrame({'X':[78,85,96,80,86], 'Y':[84,94,89,83,86],'Z':[86,97,96,72,83]})\n",
    "print(ser)"
   ]
  },
  {
   "cell_type": "code",
   "execution_count": 14,
   "metadata": {},
   "outputs": [],
   "source": [
    "#Q107. Write thepandas program to get the first 3 rows of a given DataFrame?"
   ]
  },
  {
   "cell_type": "code",
   "execution_count": 15,
   "metadata": {},
   "outputs": [
    {
     "name": "stdout",
     "output_type": "stream",
     "text": [
      "First 3 rows\n",
      "        name  score  attempts qualify\n",
      "a  Anastasia   12.5         1     yes\n",
      "b       Dima    9.0         3      no\n",
      "c  Katherine   16.5         2     yes\n"
     ]
    }
   ],
   "source": [
    "import pandas as pd\n",
    "import numpy as np\n",
    "exam_data= {'name': ['Anastasia', 'Dima', 'Katherine', 'James', 'Emily', 'Michael', 'Matthew', 'Laura', 'Kevin', 'Jonas'],'score': [12.5, 9, 16.5, np.nan, 9, 20, 14.5, np.nan, 8, 19],'attempts':[1, 3, 2, 3, 2, 3, 1, 1, 2, 1],'qualify':['yes', 'no', 'yes', 'no', 'no', 'yes', 'yes', 'no','no','yes']}\n",
    "labels = ['a', 'b', 'c', 'd', 'e', 'f', 'g', 'h', 'i', 'j']\n",
    "df = pd.DataFrame(data=exam_data,index=labels)\n",
    "print(\"First 3 rows\")\n",
    "print(df[:3])"
   ]
  },
  {
   "cell_type": "code",
   "execution_count": 16,
   "metadata": {},
   "outputs": [],
   "source": [
    "## Q108: Write thepandas program to select the specified columns andthe rows from a given data frame?"
   ]
  },
  {
   "cell_type": "code",
   "execution_count": 22,
   "metadata": {},
   "outputs": [
    {
     "name": "stdout",
     "output_type": "stream",
     "text": [
      "Printing sepcific columns and rows\n",
      "      name  score\n",
      "b     Dima    9.0\n",
      "d    James    NaN\n",
      "f  Michael   20.0\n",
      "g  Matthew   14.5\n"
     ]
    }
   ],
   "source": [
    "import pandas as pd\n",
    "import numpy as np\n",
    "exam_data= {'name': ['Anastasia', 'Dima', 'Katherine', 'James', 'Emily', 'Michael', 'Matthew', 'Laura', 'Kevin', 'Jonas'],'score': [12.5, 9, 16.5, np.nan, 9, 20, 14.5, np.nan, 8, 19],'attempts':[1, 3, 2, 3, 2, 3, 1, 1, 2, 1],'qualify':['yes', 'no', 'yes', 'no', 'no', 'yes', 'yes', 'no','no','yes']}\n",
    "labels = ['a', 'b', 'c', 'd', 'e', 'f', 'g', 'h', 'i', 'j']\n",
    "df = pd.DataFrame(data=exam_data,index=labels)\n",
    "print(\"Printing sepcific columns and rows\")\n",
    "print(df.loc[['b','d','f','g'],['name','score']])"
   ]
  },
  {
   "cell_type": "code",
   "execution_count": 23,
   "metadata": {},
   "outputs": [],
   "source": [
    "## Q109.Writethepandas program to calculate mean score for each different student in DataFrame?"
   ]
  },
  {
   "cell_type": "code",
   "execution_count": 25,
   "metadata": {},
   "outputs": [
    {
     "name": "stdout",
     "output_type": "stream",
     "text": [
      "Mean score for each different student in data frame: 13.5625\n"
     ]
    }
   ],
   "source": [
    "import pandas as pd\n",
    "import numpy as np\n",
    "exam_data= {'name': ['Anastasia', 'Dima', 'Katherine', 'James', 'Emily', 'Michael', 'Matthew', 'Laura', 'Kevin', 'Jonas'],'score': [12.5, 9, 16.5, np.nan, 9, 20, 14.5, np.nan, 8, 19],'attempts':[1, 3, 2, 3, 2, 3, 1, 1, 2, 1],'qualify':['yes', 'no', 'yes', 'no', 'no', 'yes', 'yes', 'no','no','yes']}\n",
    "labels = ['a', 'b', 'c', 'd', 'e', 'f', 'g', 'h', 'i', 'j']\n",
    "df = pd.DataFrame(data=exam_data,index=labels)\n",
    "print(\"Mean score for each different student in data frame:\",df['score'].mean())\n"
   ]
  },
  {
   "cell_type": "code",
   "execution_count": 26,
   "metadata": {},
   "outputs": [],
   "source": [
    "## Q110.Write thePandas program to rename columns of a given DataFrame?"
   ]
  },
  {
   "cell_type": "code",
   "execution_count": 27,
   "metadata": {},
   "outputs": [
    {
     "name": "stdout",
     "output_type": "stream",
     "text": [
      "Old columns\n",
      "   col1  col2  col3\n",
      "0     1     4     7\n",
      "1     2     5     5\n",
      "2     3     6     8\n",
      "3     4     9    12\n",
      "4     7     5     1\n",
      "5    11     0    11\n",
      "New columns\n",
      "   Column1  Column2  Column3\n",
      "0        1        4        7\n",
      "1        2        5        5\n",
      "2        3        6        8\n",
      "3        4        9       12\n",
      "4        7        5        1\n",
      "5       11        0       11\n"
     ]
    }
   ],
   "source": [
    "import pandas as pd\n",
    "df = pd.DataFrame({'col1': [1, 2, 3, 4, 7, 11], 'col2': [4, 5, 6, 9, 5, 0], 'col3': [7, 5, 8, 12, 1,11]})\n",
    "print(\"Old columns\")\n",
    "print(df)\n",
    "df=df.rename(columns={\"col1\":\"Column1\",\"col2\":\"Column2\",\"col3\":\"Column3\"})\n",
    "print(\"New columns\")\n",
    "print(df)"
   ]
  },
  {
   "cell_type": "code",
   "execution_count": 28,
   "metadata": {},
   "outputs": [],
   "source": [
    "## Q111.Write a pandas program to countcity-wise number of people from a given of data set (city,name of the person)?"
   ]
  },
  {
   "cell_type": "code",
   "execution_count": 29,
   "metadata": {},
   "outputs": [
    {
     "data": {
      "text/html": [
       "<div>\n",
       "<style scoped>\n",
       "    .dataframe tbody tr th:only-of-type {\n",
       "        vertical-align: middle;\n",
       "    }\n",
       "\n",
       "    .dataframe tbody tr th {\n",
       "        vertical-align: top;\n",
       "    }\n",
       "\n",
       "    .dataframe thead th {\n",
       "        text-align: right;\n",
       "    }\n",
       "</style>\n",
       "<table border=\"1\" class=\"dataframe\">\n",
       "  <thead>\n",
       "    <tr style=\"text-align: right;\">\n",
       "      <th></th>\n",
       "      <th>city</th>\n",
       "      <th>count</th>\n",
       "    </tr>\n",
       "  </thead>\n",
       "  <tbody>\n",
       "    <tr>\n",
       "      <td>0</td>\n",
       "      <td>California</td>\n",
       "      <td>4</td>\n",
       "    </tr>\n",
       "    <tr>\n",
       "      <td>1</td>\n",
       "      <td>Georgia</td>\n",
       "      <td>2</td>\n",
       "    </tr>\n",
       "    <tr>\n",
       "      <td>2</td>\n",
       "      <td>Los Angeles</td>\n",
       "      <td>4</td>\n",
       "    </tr>\n",
       "  </tbody>\n",
       "</table>\n",
       "</div>"
      ],
      "text/plain": [
       "          city  count\n",
       "0   California      4\n",
       "1      Georgia      2\n",
       "2  Los Angeles      4"
      ]
     },
     "execution_count": 29,
     "metadata": {},
     "output_type": "execute_result"
    }
   ],
   "source": [
    "import pandas as pd\n",
    "df = pd.DataFrame({'name': ['Anastasia', 'Dima', 'Katherine', 'James', 'Emily', 'Michael', 'Matthew', 'Laura', 'Kevin', 'Jonas'],\n",
    "'city': ['California', 'Los Angeles', 'California', 'California', 'California', 'Los Angeles', 'Los Angeles', 'Georgia', 'Georgia', 'Los Angeles']})\n",
    "df.groupby('city').size().reset_index(name='count')"
   ]
  },
  {
   "cell_type": "code",
   "execution_count": 30,
   "metadata": {},
   "outputs": [],
   "source": [
    "##Q112. Write a pandas program to widen output display to see more columns?"
   ]
  },
  {
   "cell_type": "code",
   "execution_count": 31,
   "metadata": {},
   "outputs": [
    {
     "data": {
      "text/html": [
       "<div>\n",
       "<style scoped>\n",
       "    .dataframe tbody tr th:only-of-type {\n",
       "        vertical-align: middle;\n",
       "    }\n",
       "\n",
       "    .dataframe tbody tr th {\n",
       "        vertical-align: top;\n",
       "    }\n",
       "\n",
       "    .dataframe thead th {\n",
       "        text-align: right;\n",
       "    }\n",
       "</style>\n",
       "<table border=\"1\" class=\"dataframe\">\n",
       "  <thead>\n",
       "    <tr style=\"text-align: right;\">\n",
       "      <th></th>\n",
       "      <th>col1</th>\n",
       "      <th>col2</th>\n",
       "      <th>col3</th>\n",
       "    </tr>\n",
       "  </thead>\n",
       "  <tbody>\n",
       "    <tr>\n",
       "      <td>0</td>\n",
       "      <td>1</td>\n",
       "      <td>4</td>\n",
       "      <td>7</td>\n",
       "    </tr>\n",
       "    <tr>\n",
       "      <td>1</td>\n",
       "      <td>2</td>\n",
       "      <td>5</td>\n",
       "      <td>5</td>\n",
       "    </tr>\n",
       "    <tr>\n",
       "      <td>2</td>\n",
       "      <td>3</td>\n",
       "      <td>6</td>\n",
       "      <td>8</td>\n",
       "    </tr>\n",
       "    <tr>\n",
       "      <td>3</td>\n",
       "      <td>4</td>\n",
       "      <td>9</td>\n",
       "      <td>12</td>\n",
       "    </tr>\n",
       "    <tr>\n",
       "      <td>4</td>\n",
       "      <td>7</td>\n",
       "      <td>5</td>\n",
       "      <td>1</td>\n",
       "    </tr>\n",
       "    <tr>\n",
       "      <td>5</td>\n",
       "      <td>11</td>\n",
       "      <td>0</td>\n",
       "      <td>11</td>\n",
       "    </tr>\n",
       "  </tbody>\n",
       "</table>\n",
       "</div>"
      ],
      "text/plain": [
       "   col1  col2  col3\n",
       "0     1     4     7\n",
       "1     2     5     5\n",
       "2     3     6     8\n",
       "3     4     9    12\n",
       "4     7     5     1\n",
       "5    11     0    11"
      ]
     },
     "execution_count": 31,
     "metadata": {},
     "output_type": "execute_result"
    }
   ],
   "source": [
    "import pandas as pd\n",
    "df = pd.DataFrame({'col1': [1, 2, 3, 4, 7, 11], 'col2': [4, 5, 6, 9, 5, 0], 'col3': [7, 5, 8, 12, 1,11]})\n",
    "pd.set_option('display.max_rows', 5990)\n",
    "pd.set_option('display.max_columns', 1200)\n",
    "pd.set_option('display.width', 1000000)\n",
    "df"
   ]
  },
  {
   "cell_type": "code",
   "execution_count": 32,
   "metadata": {},
   "outputs": [],
   "source": [
    "##Q113.Write a pandas program to convert the dataframe column type from string to DateTime?"
   ]
  },
  {
   "cell_type": "code",
   "execution_count": 33,
   "metadata": {},
   "outputs": [
    {
     "data": {
      "text/plain": [
       "0   2000-03-11\n",
       "1   2000-03-12\n",
       "2   2000-03-13\n",
       "dtype: datetime64[ns]"
      ]
     },
     "execution_count": 33,
     "metadata": {},
     "output_type": "execute_result"
    }
   ],
   "source": [
    "import pandas as pd\n",
    "ser = pd.Series(pd.Series(['3/11/2000', '3/12/2000', '3/13/2000']))\n",
    "pd.to_datetime(ser)"
   ]
  },
  {
   "cell_type": "code",
   "execution_count": 34,
   "metadata": {},
   "outputs": [],
   "source": [
    "## Q114. Write a pandas program to append the data to an empty DataFrame?"
   ]
  },
  {
   "cell_type": "code",
   "execution_count": 35,
   "metadata": {},
   "outputs": [
    {
     "name": "stdout",
     "output_type": "stream",
     "text": [
      "Dataframe is below:\n",
      "   col1  col2  col3\n",
      "0     1     4     7\n",
      "1     2     5     5\n",
      "2     3     6     8\n",
      "3     4     9    12\n",
      "4     7     5     1\n",
      "5    11     0    11\n",
      "Number of columns: 3\n"
     ]
    }
   ],
   "source": [
    "import pandas as pd\n",
    "df = pd.DataFrame({'col1': [1, 2, 3, 4, 7, 11], 'col2': [4, 5, 6, 9, 5, 0], 'col3': [7, 5, 8, 12, 1,11]})\n",
    "print(\"Dataframe is below:\")\n",
    "print(df)\n",
    "print(\"Number of columns:\",len(df.columns))"
   ]
  },
  {
   "cell_type": "code",
   "execution_count": 36,
   "metadata": {},
   "outputs": [],
   "source": [
    "##Q116. Write a Pandas program to remove the last n rows of a given DataFrame ?"
   ]
  },
  {
   "cell_type": "code",
   "execution_count": 37,
   "metadata": {},
   "outputs": [
    {
     "name": "stdout",
     "output_type": "stream",
     "text": [
      "After removing last 3 rows of the said DataFrame:\n",
      "   col1  col2  col3\n",
      "0     1     4     7\n",
      "1     2     5     5\n",
      "2     3     6     8\n"
     ]
    }
   ],
   "source": [
    "import pandas as pd\n",
    "df = pd.DataFrame({'col1': [1, 2, 3, 4, 7, 11], 'col2': [4, 5, 6, 9, 5, 0], 'col3': [7, 5, 8, 12, 1,11]})\n",
    "print(\"After removing last 3 rows of the said DataFrame:\")\n",
    "index = [3,4,5]\n",
    "print(df.drop(axis=1,index=index))"
   ]
  },
  {
   "cell_type": "code",
   "execution_count": 38,
   "metadata": {},
   "outputs": [],
   "source": [
    "## Q117. Write a Pandas program to import excel data (coalpublic2013.xlsx ) into a Pandas dataframe."
   ]
  },
  {
   "cell_type": "code",
   "execution_count": 39,
   "metadata": {},
   "outputs": [
    {
     "data": {
      "text/html": [
       "<div>\n",
       "<style scoped>\n",
       "    .dataframe tbody tr th:only-of-type {\n",
       "        vertical-align: middle;\n",
       "    }\n",
       "\n",
       "    .dataframe tbody tr th {\n",
       "        vertical-align: top;\n",
       "    }\n",
       "\n",
       "    .dataframe thead th {\n",
       "        text-align: right;\n",
       "    }\n",
       "</style>\n",
       "<table border=\"1\" class=\"dataframe\">\n",
       "  <thead>\n",
       "    <tr style=\"text-align: right;\">\n",
       "      <th></th>\n",
       "      <th>Year</th>\n",
       "      <th>MSHA ID</th>\n",
       "      <th>Mine_Name</th>\n",
       "      <th>Production</th>\n",
       "      <th>Labor_Hours</th>\n",
       "    </tr>\n",
       "  </thead>\n",
       "  <tbody>\n",
       "    <tr>\n",
       "      <td>0</td>\n",
       "      <td>2013</td>\n",
       "      <td>103381</td>\n",
       "      <td>Tacoa Highwall Miner</td>\n",
       "      <td>56004</td>\n",
       "      <td>22392</td>\n",
       "    </tr>\n",
       "    <tr>\n",
       "      <td>1</td>\n",
       "      <td>2013</td>\n",
       "      <td>103404</td>\n",
       "      <td>Reid School Mine</td>\n",
       "      <td>28807</td>\n",
       "      <td>28447</td>\n",
       "    </tr>\n",
       "    <tr>\n",
       "      <td>2</td>\n",
       "      <td>2013</td>\n",
       "      <td>100759</td>\n",
       "      <td>North River #1 Underground Min</td>\n",
       "      <td>1440115</td>\n",
       "      <td>474784</td>\n",
       "    </tr>\n",
       "    <tr>\n",
       "      <td>3</td>\n",
       "      <td>2013</td>\n",
       "      <td>103246</td>\n",
       "      <td>Bear Creek</td>\n",
       "      <td>87587</td>\n",
       "      <td>29193</td>\n",
       "    </tr>\n",
       "    <tr>\n",
       "      <td>4</td>\n",
       "      <td>2013</td>\n",
       "      <td>103451</td>\n",
       "      <td>Knight Mine</td>\n",
       "      <td>147499</td>\n",
       "      <td>46393</td>\n",
       "    </tr>\n",
       "  </tbody>\n",
       "</table>\n",
       "</div>"
      ],
      "text/plain": [
       "   Year  MSHA ID                       Mine_Name  Production  Labor_Hours\n",
       "0  2013   103381            Tacoa Highwall Miner       56004        22392\n",
       "1  2013   103404                Reid School Mine       28807        28447\n",
       "2  2013   100759  North River #1 Underground Min     1440115       474784\n",
       "3  2013   103246                      Bear Creek       87587        29193\n",
       "4  2013   103451                     Knight Mine      147499        46393"
      ]
     },
     "execution_count": 39,
     "metadata": {},
     "output_type": "execute_result"
    }
   ],
   "source": [
    "import pandas as pd\n",
    "df = pd.read_excel(\"Datasets/coalpublic2013.xlsx\")\n",
    "df.head()"
   ]
  },
  {
   "cell_type": "code",
   "execution_count": 40,
   "metadata": {},
   "outputs": [],
   "source": [
    "##Q118. Write a Pandas program to import excel data (coalpublic2013.xlsx ) into a dataframe and find details where \"Mine Name\" starts with \"P."
   ]
  },
  {
   "cell_type": "code",
   "execution_count": 41,
   "metadata": {},
   "outputs": [
    {
     "name": "stdout",
     "output_type": "stream",
     "text": [
      "    Year  MSHA ID                      Mine_Name  Production  Labor_Hours\n",
      "13  2013   103332                  Powhatan Mine      140521        61394\n",
      "18  2013   102976  Piney Woods Preparation Plant           0        14828\n",
      "19  2013   102976  Piney Woods Preparation Plant           0        23193\n",
      "46  2013   103321                 Poplar Springs      189370        76366\n"
     ]
    }
   ],
   "source": [
    "import pandas as pd\n",
    "df = pd.read_excel(\"Datasets/coalpublic2013.xlsx\")\n",
    "print(df[df[\"Mine_Name\"].map(lambda name:name.startswith('P'))])"
   ]
  },
  {
   "cell_type": "code",
   "execution_count": 42,
   "metadata": {},
   "outputs": [],
   "source": [
    "##Q119. Write a Pandas program to import excel data (employee.xlsx )into a Pandas dataframe and find thelist of employees where hire_date> 01-01-07."
   ]
  },
  {
   "cell_type": "code",
   "execution_count": 44,
   "metadata": {},
   "outputs": [
    {
     "name": "stdout",
     "output_type": "stream",
     "text": [
      "    emp_id first_name   last_name  hire_date\n",
      "4      104      Bruce       Ernst 2007-05-21\n",
      "7      107      Diana     Lorentz 2007-02-07\n",
      "13     113       Luis        Popp 2007-12-07\n",
      "19     119      Karen  Colmenares 2007-08-10\n"
     ]
    }
   ],
   "source": [
    "import pandas as pd\n",
    "df = pd.read_excel(\"Datasets/employee.xlsx\")\n",
    "print(df[df['hire_date']>'20070101'])"
   ]
  },
  {
   "cell_type": "code",
   "execution_count": 45,
   "metadata": {},
   "outputs": [],
   "source": [
    "##Q120.Write a Pandas program to import excel data (employee.xlsx ) into a Pandas dataframe and find a list of the employees of a specified year"
   ]
  },
  {
   "cell_type": "code",
   "execution_count": 46,
   "metadata": {},
   "outputs": [
    {
     "data": {
      "text/html": [
       "<div>\n",
       "<style scoped>\n",
       "    .dataframe tbody tr th:only-of-type {\n",
       "        vertical-align: middle;\n",
       "    }\n",
       "\n",
       "    .dataframe tbody tr th {\n",
       "        vertical-align: top;\n",
       "    }\n",
       "\n",
       "    .dataframe thead th {\n",
       "        text-align: right;\n",
       "    }\n",
       "</style>\n",
       "<table border=\"1\" class=\"dataframe\">\n",
       "  <thead>\n",
       "    <tr style=\"text-align: right;\">\n",
       "      <th></th>\n",
       "      <th>emp_id</th>\n",
       "      <th>first_name</th>\n",
       "      <th>last_name</th>\n",
       "    </tr>\n",
       "    <tr>\n",
       "      <th>hire_date</th>\n",
       "      <th></th>\n",
       "      <th></th>\n",
       "      <th></th>\n",
       "    </tr>\n",
       "  </thead>\n",
       "  <tbody>\n",
       "    <tr>\n",
       "      <td>2002-08-17</td>\n",
       "      <td>108</td>\n",
       "      <td>Nancy</td>\n",
       "      <td>Greenberg</td>\n",
       "    </tr>\n",
       "    <tr>\n",
       "      <td>2002-08-16</td>\n",
       "      <td>109</td>\n",
       "      <td>Daniel</td>\n",
       "      <td>Faviet</td>\n",
       "    </tr>\n",
       "    <tr>\n",
       "      <td>2002-12-07</td>\n",
       "      <td>114</td>\n",
       "      <td>Den</td>\n",
       "      <td>Raphaely</td>\n",
       "    </tr>\n",
       "  </tbody>\n",
       "</table>\n",
       "</div>"
      ],
      "text/plain": [
       "            emp_id first_name  last_name\n",
       "hire_date                               \n",
       "2002-08-17     108      Nancy  Greenberg\n",
       "2002-08-16     109     Daniel     Faviet\n",
       "2002-12-07     114        Den   Raphaely"
      ]
     },
     "execution_count": 46,
     "metadata": {},
     "output_type": "execute_result"
    }
   ],
   "source": [
    "import pandas as pd\n",
    "df = pd.read_excel(\"Datasets/employee.xlsx\")\n",
    "df2 = df.set_index('hire_date')\n",
    "df2['2002']"
   ]
  },
  {
   "cell_type": "code",
   "execution_count": 47,
   "metadata": {},
   "outputs": [],
   "source": [
    "##Q121.Write a pandas program to import three datasheets from a given excel data  (coalpublic2013.xlsx ) in to a single dataframe"
   ]
  },
  {
   "cell_type": "code",
   "execution_count": 50,
   "metadata": {},
   "outputs": [
    {
     "data": {
      "text/html": [
       "<div>\n",
       "<style scoped>\n",
       "    .dataframe tbody tr th:only-of-type {\n",
       "        vertical-align: middle;\n",
       "    }\n",
       "\n",
       "    .dataframe tbody tr th {\n",
       "        vertical-align: top;\n",
       "    }\n",
       "\n",
       "    .dataframe thead th {\n",
       "        text-align: right;\n",
       "    }\n",
       "</style>\n",
       "<table border=\"1\" class=\"dataframe\">\n",
       "  <thead>\n",
       "    <tr style=\"text-align: right;\">\n",
       "      <th></th>\n",
       "      <th>emp_id</th>\n",
       "      <th>first_name</th>\n",
       "      <th>last_name</th>\n",
       "      <th>hire_date</th>\n",
       "    </tr>\n",
       "  </thead>\n",
       "  <tbody>\n",
       "    <tr>\n",
       "      <td>0</td>\n",
       "      <td>100</td>\n",
       "      <td>Steven</td>\n",
       "      <td>King</td>\n",
       "      <td>2003-06-17</td>\n",
       "    </tr>\n",
       "    <tr>\n",
       "      <td>1</td>\n",
       "      <td>101</td>\n",
       "      <td>Neena</td>\n",
       "      <td>Kochhar</td>\n",
       "      <td>2005-09-21</td>\n",
       "    </tr>\n",
       "    <tr>\n",
       "      <td>2</td>\n",
       "      <td>102</td>\n",
       "      <td>Lex</td>\n",
       "      <td>De Haan</td>\n",
       "      <td>2001-01-13</td>\n",
       "    </tr>\n",
       "    <tr>\n",
       "      <td>3</td>\n",
       "      <td>103</td>\n",
       "      <td>Alexander</td>\n",
       "      <td>Hunold</td>\n",
       "      <td>2006-01-03</td>\n",
       "    </tr>\n",
       "    <tr>\n",
       "      <td>4</td>\n",
       "      <td>104</td>\n",
       "      <td>Bruce</td>\n",
       "      <td>Ernst</td>\n",
       "      <td>2007-05-21</td>\n",
       "    </tr>\n",
       "  </tbody>\n",
       "</table>\n",
       "</div>"
      ],
      "text/plain": [
       "   emp_id first_name last_name  hire_date\n",
       "0     100     Steven      King 2003-06-17\n",
       "1     101      Neena   Kochhar 2005-09-21\n",
       "2     102        Lex   De Haan 2001-01-13\n",
       "3     103  Alexander    Hunold 2006-01-03\n",
       "4     104      Bruce     Ernst 2007-05-21"
      ]
     },
     "execution_count": 50,
     "metadata": {},
     "output_type": "execute_result"
    }
   ],
   "source": [
    "import pandas as pd\n",
    "import numpy as np\n",
    "df1 = pd.read_excel(\"Datasets/coalpublic2013.xlsx\",sheet_name=0)\n",
    "#df2 = pd.read_excel(\"Datasets/coalpublic2013.xlsx\",sheet_name=1)\n",
    "#df3 = pd.read_excel(\"Datasets/coalpublic2013.xlsx\",sheet_name=2)\n",
    "#df=pd.concat([df1,df2])\n",
    "df.head()\n",
    "#The program works with employee.xlsx"
   ]
  },
  {
   "cell_type": "code",
   "execution_count": 51,
   "metadata": {},
   "outputs": [],
   "source": [
    "## Q122.Write a pandas program to import three datasheets from a given excel data (employee.xlsx ) into a single dataframe and export the result into new Excel file."
   ]
  },
  {
   "cell_type": "code",
   "execution_count": 52,
   "metadata": {},
   "outputs": [
    {
     "data": {
      "text/html": [
       "<div>\n",
       "<style scoped>\n",
       "    .dataframe tbody tr th:only-of-type {\n",
       "        vertical-align: middle;\n",
       "    }\n",
       "\n",
       "    .dataframe tbody tr th {\n",
       "        vertical-align: top;\n",
       "    }\n",
       "\n",
       "    .dataframe thead th {\n",
       "        text-align: right;\n",
       "    }\n",
       "</style>\n",
       "<table border=\"1\" class=\"dataframe\">\n",
       "  <thead>\n",
       "    <tr style=\"text-align: right;\">\n",
       "      <th></th>\n",
       "      <th>emp_id</th>\n",
       "      <th>first_name</th>\n",
       "      <th>last_name</th>\n",
       "      <th>hire_date</th>\n",
       "    </tr>\n",
       "  </thead>\n",
       "  <tbody>\n",
       "    <tr>\n",
       "      <td>0</td>\n",
       "      <td>100</td>\n",
       "      <td>Steven</td>\n",
       "      <td>King</td>\n",
       "      <td>2003-06-17</td>\n",
       "    </tr>\n",
       "    <tr>\n",
       "      <td>1</td>\n",
       "      <td>101</td>\n",
       "      <td>Neena</td>\n",
       "      <td>Kochhar</td>\n",
       "      <td>2005-09-21</td>\n",
       "    </tr>\n",
       "    <tr>\n",
       "      <td>2</td>\n",
       "      <td>102</td>\n",
       "      <td>Lex</td>\n",
       "      <td>De Haan</td>\n",
       "      <td>2001-01-13</td>\n",
       "    </tr>\n",
       "    <tr>\n",
       "      <td>3</td>\n",
       "      <td>103</td>\n",
       "      <td>Alexander</td>\n",
       "      <td>Hunold</td>\n",
       "      <td>2006-01-03</td>\n",
       "    </tr>\n",
       "    <tr>\n",
       "      <td>4</td>\n",
       "      <td>104</td>\n",
       "      <td>Bruce</td>\n",
       "      <td>Ernst</td>\n",
       "      <td>2007-05-21</td>\n",
       "    </tr>\n",
       "  </tbody>\n",
       "</table>\n",
       "</div>"
      ],
      "text/plain": [
       "   emp_id first_name last_name  hire_date\n",
       "0     100     Steven      King 2003-06-17\n",
       "1     101      Neena   Kochhar 2005-09-21\n",
       "2     102        Lex   De Haan 2001-01-13\n",
       "3     103  Alexander    Hunold 2006-01-03\n",
       "4     104      Bruce     Ernst 2007-05-21"
      ]
     },
     "execution_count": 52,
     "metadata": {},
     "output_type": "execute_result"
    }
   ],
   "source": [
    "import pandas as pd\n",
    "import numpy as np\n",
    "df1 = pd.read_excel('employee.xlsx',sheet_name=0)\n",
    "df2 = pd.read_excel('employee.xlsx',sheet_name=1)\n",
    "df3 = pd.read_excel('employee.xlsx',sheet_name=2)\n",
    "df = pd.concat([df1, df2, df3])\n",
    "df.to_excel('newEmployee.xlsx',index=False)\n",
    "df4 = pd.read_excel('newEmployee.xlsx')\n",
    "df4.head()"
   ]
  },
  {
   "cell_type": "code",
   "execution_count": 1,
   "metadata": {},
   "outputs": [],
   "source": [
    "## Q123.Write a pandas program to create thePivot table with multiple indexes from the data set ofthe titanic.csv."
   ]
  },
  {
   "cell_type": "code",
   "execution_count": 17,
   "metadata": {},
   "outputs": [
    {
     "name": "stdout",
     "output_type": "stream",
     "text": [
      "Pivot table:\n",
      "alive          no        yes\n",
      "sex                         \n",
      "female  23.024385  51.938573\n",
      "male    21.960993  40.821484\n"
     ]
    }
   ],
   "source": [
    "import pandas as pd\n",
    "df = pd.read_csv(\"Datasets/titanic.csv\")\n",
    "print(\"Pivot table:\")\n",
    "print(df.pivot_table('fare','sex','alive'))"
   ]
  },
  {
   "cell_type": "code",
   "execution_count": 3,
   "metadata": {},
   "outputs": [],
   "source": [
    "## Q124. Write a Pandas program to create thePivot table and find survival rate by gender?"
   ]
  },
  {
   "cell_type": "code",
   "execution_count": 18,
   "metadata": {},
   "outputs": [
    {
     "name": "stdout",
     "output_type": "stream",
     "text": [
      "Pivot table:\n",
      "        survived\n",
      "sex             \n",
      "female  0.742038\n",
      "male    0.188908\n"
     ]
    }
   ],
   "source": [
    "import pandas as pd\n",
    "df = pd.read_csv(\"Datasets/titanic.csv\")\n",
    "print(\"Pivot table:\")\n",
    "print(df.pivot_table('survived','sex'))"
   ]
  },
  {
   "cell_type": "code",
   "execution_count": 19,
   "metadata": {},
   "outputs": [],
   "source": [
    "##Q125.Write a pandas program to make partition each ofthe passengers into 4categories based on their age."
   ]
  },
  {
   "cell_type": "code",
   "execution_count": 21,
   "metadata": {},
   "outputs": [
    {
     "name": "stdout",
     "output_type": "stream",
     "text": [
      "Pivot table:\n",
      "0      (10.0, 30.0]\n",
      "1      (30.0, 60.0]\n",
      "2      (10.0, 30.0]\n",
      "3      (30.0, 60.0]\n",
      "4      (30.0, 60.0]\n",
      "           ...     \n",
      "886    (10.0, 30.0]\n",
      "887    (10.0, 30.0]\n",
      "888             NaN\n",
      "889    (10.0, 30.0]\n",
      "890    (30.0, 60.0]\n",
      "Name: age, Length: 891, dtype: category\n",
      "Categories (4, interval[int64]): [(0, 10] < (10, 30] < (30, 60] < (60, 80]]\n"
     ]
    }
   ],
   "source": [
    "import pandas as pd\n",
    "df = pd.read_csv(\"Datasets/titanic.csv\")\n",
    "print(\"Pivot table:\")\n",
    "print(pd.cut(df['age'],[0,10,30,60,80]))"
   ]
  },
  {
   "cell_type": "code",
   "execution_count": 22,
   "metadata": {},
   "outputs": [],
   "source": [
    "##Q126.Write a pandas program to create thePivot table and find survival rate by the gender, age of the different categories of various classes"
   ]
  },
  {
   "cell_type": "code",
   "execution_count": 23,
   "metadata": {},
   "outputs": [
    {
     "name": "stdout",
     "output_type": "stream",
     "text": [
      "Pivot table:\n",
      "class         First  Second  Third\n",
      "sex    age                        \n",
      "female 0.75     NaN     NaN   1.00\n",
      "       1.00     NaN     NaN   1.00\n",
      "       2.00     0.0     1.0   0.25\n",
      "       3.00     NaN     1.0   0.00\n",
      "       4.00     NaN     1.0   1.00\n",
      "...             ...     ...    ...\n",
      "male   70.00    0.0     0.0    NaN\n",
      "       70.50    NaN     NaN   0.00\n",
      "       71.00    0.0     NaN    NaN\n",
      "       74.00    NaN     NaN   0.00\n",
      "       80.00    1.0     NaN    NaN\n",
      "\n",
      "[145 rows x 3 columns]\n"
     ]
    }
   ],
   "source": [
    "import pandas as pd\n",
    "df = pd.read_csv(\"Datasets/titanic.csv\")\n",
    "print(\"Pivot table:\")\n",
    "print(df.pivot_table('survived',index=['sex','age'],columns=['class']))"
   ]
  },
  {
   "cell_type": "code",
   "execution_count": 24,
   "metadata": {},
   "outputs": [],
   "source": [
    "##Q127.Write a pandas program to create thePivot table and calculate number of women and men were in a particular cabin class."
   ]
  },
  {
   "cell_type": "code",
   "execution_count": 25,
   "metadata": {},
   "outputs": [
    {
     "name": "stdout",
     "output_type": "stream",
     "text": [
      "Pivot table:\n",
      "sex     female  male\n",
      "class               \n",
      "First       94   122\n",
      "Second      76   108\n",
      "Third      144   347\n"
     ]
    }
   ],
   "source": [
    "import pandas as pd\n",
    "df = pd.read_csv(\"Datasets/titanic.csv\")\n",
    "print(\"Pivot table:\")\n",
    "print(df.pivot_table('who',index=['class'],columns=['sex'],aggfunc='count'))"
   ]
  },
  {
   "cell_type": "code",
   "execution_count": 26,
   "metadata": {},
   "outputs": [],
   "source": [
    "##Q128.Write a pandas program to create thePivot table and separate the gender according to whether they travelled alone or not to get theprobability of survival"
   ]
  },
  {
   "cell_type": "code",
   "execution_count": 27,
   "metadata": {},
   "outputs": [
    {
     "name": "stdout",
     "output_type": "stream",
     "text": [
      "Pivot table:\n",
      "sex             female  male\n",
      "survived alone              \n",
      "0        False      54   121\n",
      "         True       27   347\n",
      "1        False     134    45\n",
      "         True       99    64\n"
     ]
    }
   ],
   "source": [
    "import pandas as pd\n",
    "df = pd.read_csv(\"Datasets/titanic.csv\")\n",
    "print(\"Pivot table:\")\n",
    "print(df.pivot_table('who',index=['survived','alone'],columns=['sex'],aggfunc='count'))"
   ]
  },
  {
   "cell_type": "code",
   "execution_count": 28,
   "metadata": {},
   "outputs": [],
   "source": [
    "##Q129.Write a pandas program to create thePivot table and find the probability of survival by class, gender, solo boarding,andtheport of embarkation."
   ]
  },
  {
   "cell_type": "code",
   "execution_count": 29,
   "metadata": {},
   "outputs": [
    {
     "name": "stdout",
     "output_type": "stream",
     "text": [
      "Pivot table:\n",
      "                                 survived\n",
      "sex    alone class  embark_town          \n",
      "female False First  Cherbourg    1.000000\n",
      "                    Queenstown   1.000000\n",
      "                    Southampton  0.941176\n",
      "             Second Cherbourg    1.000000\n",
      "                    Southampton  0.923077\n",
      "             Third  Cherbourg    0.611111\n",
      "                    Queenstown   0.625000\n",
      "                    Southampton  0.327586\n",
      "       True  First  Cherbourg    0.944444\n",
      "                    Southampton  1.000000\n",
      "             Second Cherbourg    1.000000\n",
      "                    Queenstown   1.000000\n",
      "                    Southampton  0.892857\n",
      "             Third  Cherbourg    0.800000\n",
      "                    Queenstown   0.760000\n",
      "                    Southampton  0.466667\n",
      "male   False First  Cherbourg    0.473684\n",
      "                    Queenstown   0.000000\n",
      "                    Southampton  0.407407\n",
      "             Second Cherbourg    0.166667\n",
      "                    Southampton  0.300000\n",
      "             Third  Cherbourg    0.500000\n",
      "                    Queenstown   0.100000\n",
      "                    Southampton  0.142857\n",
      "       True  First  Cherbourg    0.347826\n",
      "                    Southampton  0.326923\n",
      "             Second Cherbourg    0.250000\n",
      "                    Queenstown   0.000000\n",
      "                    Southampton  0.089552\n",
      "             Third  Cherbourg    0.151515\n",
      "                    Queenstown   0.068966\n",
      "                    Southampton  0.123762\n"
     ]
    }
   ],
   "source": [
    "import pandas as pd\n",
    "df = pd.read_csv(\"Datasets/titanic.csv\")\n",
    "print(\"Pivot table:\")\n",
    "print(df.pivot_table('survived',index=['sex','alone','class','embark_town']))"
   ]
  },
  {
   "cell_type": "code",
   "execution_count": 30,
   "metadata": {},
   "outputs": [],
   "source": [
    "## Q130.Write a pandas program to getcurrent date, oldest date and number of days between Current date andthe oldest date of Ufo dataset"
   ]
  },
  {
   "cell_type": "code",
   "execution_count": 32,
   "metadata": {},
   "outputs": [
    {
     "name": "stdout",
     "output_type": "stream",
     "text": [
      "Current date of Ufo dataset: 2014-05-08 18:45:00\n",
      "Oldest date of Ufo dataset: 1906-11-11 00:00:00\n",
      "Number of days between Current date and oldest date 39260\n"
     ]
    }
   ],
   "source": [
    "import pandas as pd\n",
    "df = pd.read_csv(\"Datasets/ufo2.csv\")\n",
    "df['datetime'] = pd.to_datetime(df['datetime'],errors='coerce')\n",
    "print(\"Current date of Ufo dataset:\",df['datetime'].max())\n",
    "print(\"Oldest date of Ufo dataset:\",df['datetime'].min())\n",
    "print(\"Number of days between Current date and oldest date\",(df['datetime'].max()-df['datetime'].min()).days)"
   ]
  },
  {
   "cell_type": "code",
   "execution_count": 33,
   "metadata": {},
   "outputs": [],
   "source": [
    "##Q131.Write a pandas program to get allsighting days of the unidentifiedflying object (ufo) between 1950-10-10 and 1960-10-10."
   ]
  },
  {
   "cell_type": "code",
   "execution_count": 34,
   "metadata": {},
   "outputs": [
    {
     "name": "stdout",
     "output_type": "stream",
     "text": [
      "All sighting days of the unidentified flying object (ufo) between 1950-10-10 and 1960-10-10:\n",
      "                 datetime                  city state country    shape\n",
      "2     1955-10-10 17:00:00  chester (uk/england)   NaN      gb   circle\n",
      "3     1956-10-10 21:00:00                  edna    tx      us   circle\n",
      "480   1952-10-01 03:30:00       fukuoka (japan)   NaN     NaN     disk\n",
      "481   1952-10-01 12:00:00           kansas city    mo      us     disk\n",
      "482   1954-10-01 19:00:00             flatwoods    wv      us   circle\n",
      "...                   ...                   ...   ...     ...      ...\n",
      "79262 1960-09-05 21:00:00               buffalo    ny      us     oval\n",
      "79668 1958-09-07 19:00:00                arthur    nd      us  unknown\n",
      "80101 1952-09-09 20:00:00          philadelphia    pa      us   circle\n",
      "80102 1954-09-09 12:30:00              beaumont    tx      us     disk\n",
      "80103 1956-09-09 05:55:00               norfolk    va      us    cigar\n",
      "\n",
      "[444 rows x 5 columns]\n"
     ]
    }
   ],
   "source": [
    "import pandas as pd\n",
    "df = pd.read_csv(\"Datasets/ufo2.csv\")\n",
    "df['datetime'] = pd.to_datetime(df['datetime'],errors='coerce')\n",
    "print(\"All sighting days of the unidentified flying object (ufo) between 1950-10-10 and 1960-10-10:\")\n",
    "df2 = df[(df['datetime']>='1950/10/10 00:00') &(df['datetime']<='1960/10/10 00:00') ]\n",
    "print(df2[['datetime','city','state','country','shape']])"
   ]
  },
  {
   "cell_type": "code",
   "execution_count": 35,
   "metadata": {},
   "outputs": [],
   "source": [
    "##Q132.Write a Pandas program to extract the year, month, day, hour,minute, second,and weekday from unidentified flying object (UFO) reporting date"
   ]
  },
  {
   "cell_type": "code",
   "execution_count": 36,
   "metadata": {},
   "outputs": [
    {
     "name": "stdout",
     "output_type": "stream",
     "text": [
      "Year: First 5\n",
      "0    1949.0\n",
      "1    1949.0\n",
      "2    1955.0\n",
      "3    1956.0\n",
      "4    1960.0\n",
      "Name: datetime, dtype: float64\n",
      "Month: First 5\n",
      "0    10.0\n",
      "1    10.0\n",
      "2    10.0\n",
      "3    10.0\n",
      "4    10.0\n",
      "Name: datetime, dtype: float64\n",
      "Day: First 5\n",
      "0    10.0\n",
      "1    10.0\n",
      "2    10.0\n",
      "3    10.0\n",
      "4    10.0\n",
      "Name: datetime, dtype: float64\n",
      "Hour: First 5\n",
      "0    20.0\n",
      "1    21.0\n",
      "2    17.0\n",
      "3    21.0\n",
      "4    20.0\n",
      "Name: datetime, dtype: float64\n",
      "Minute: First 5\n",
      "0    30.0\n",
      "1     0.0\n",
      "2     0.0\n",
      "3     0.0\n",
      "4     0.0\n",
      "Name: datetime, dtype: float64\n",
      "Second: First 5\n",
      "0    0.0\n",
      "1    0.0\n",
      "2    0.0\n",
      "3    0.0\n",
      "4    0.0\n",
      "Name: datetime, dtype: float64\n",
      "Weekday: First 5\n",
      "0    0.0\n",
      "1    0.0\n",
      "2    0.0\n",
      "3    2.0\n",
      "4    0.0\n",
      "Name: datetime, dtype: float64\n"
     ]
    }
   ],
   "source": [
    "import pandas as pd\n",
    "df = pd.read_csv(\"Datasets/ufo2.csv\")\n",
    "df['datetime'] = pd.to_datetime(df['datetime'],errors='coerce')\n",
    "print(\"Year: First 5\")\n",
    "print(df['datetime'].dt.year.head())\n",
    "print(\"Month: First 5\")\n",
    "print(df['datetime'].dt.month.head())\n",
    "print(\"Day: First 5\")\n",
    "print(df['datetime'].dt.day.head())\n",
    "print(\"Hour: First 5\")\n",
    "print(df['datetime'].dt.hour.head())\n",
    "print(\"Minute: First 5\")\n",
    "print(df['datetime'].dt.minute.head())\n",
    "print(\"Second: First 5\")\n",
    "print(df['datetime'].dt.second.head())\n",
    "print(\"Weekday: First 5\")\n",
    "print(df['datetime'].dt.dayofweek.head())\n"
   ]
  },
  {
   "cell_type": "code",
   "execution_count": 37,
   "metadata": {},
   "outputs": [],
   "source": [
    "##Q133.Write a pandas program to count year-country wise frequency ofreporting dates oftheunidentified flying object(UFO)."
   ]
  },
  {
   "cell_type": "code",
   "execution_count": 38,
   "metadata": {},
   "outputs": [
    {
     "name": "stdout",
     "output_type": "stream",
     "text": [
      "country wise frequency ofreporting dates oftheunidentified flying object(UFO)\n",
      "country  year  \n",
      "au       1958.0       1\n",
      "         1960.0       1\n",
      "         1967.0       1\n",
      "         1968.0       1\n",
      "         1972.0       3\n",
      "                   ... \n",
      "us       2010.0    3529\n",
      "         2011.0    4352\n",
      "         2012.0    6282\n",
      "         2013.0    6024\n",
      "         2014.0    1960\n",
      "Length: 280, dtype: int64\n"
     ]
    }
   ],
   "source": [
    "=[]\n",
    "print(\"country wise frequency ofreporting dates oftheunidentified flying object(UFO)\")\n",
    "df['year'] = df['datetime'].dt.year\n",
    "print(df.groupby(['country','year']).size())"
   ]
  },
  {
   "cell_type": "code",
   "execution_count": 41,
   "metadata": {},
   "outputs": [],
   "source": [
    "##Q134.Write a pandas program to get the difference (in days) between documented date and reporting date of unidentified flying object (UFO)."
   ]
  },
  {
   "cell_type": "code",
   "execution_count": 42,
   "metadata": {},
   "outputs": [
    {
     "name": "stdout",
     "output_type": "stream",
     "text": [
      "difference (in days) between documented date and reporting date of unidentified flying object (UFO):\n",
      "5906\n"
     ]
    }
   ],
   "source": [
    "import pandas as pd\n",
    "df = pd.read_csv(\"Datasets/ufo2.csv\")\n",
    "df['datetime'] = pd.to_datetime(df['datetime'],errors='coerce')\n",
    "df['date posted'] = pd.to_datetime(df['date posted'],errors='coerce')\n",
    "print(\"difference (in days) between documented date and reporting date of unidentified flying object (UFO):\")\n",
    "print((df['datetime'].max()-df['date posted'].min()).days)"
   ]
  },
  {
   "cell_type": "code",
   "execution_count": 1,
   "metadata": {},
   "outputs": [],
   "source": [
    "## Q135.Write a pandas program to generate sequences of fixed-frequency dates andtime spans."
   ]
  },
  {
   "cell_type": "code",
   "execution_count": 2,
   "metadata": {},
   "outputs": [
    {
     "name": "stdout",
     "output_type": "stream",
     "text": [
      "Days:\n",
      " DatetimeIndex(['2019-12-05', '2019-12-06', '2019-12-07', '2019-12-08',\n",
      "               '2019-12-09', '2019-12-10', '2019-12-11', '2019-12-12',\n",
      "               '2019-12-13', '2019-12-14'],\n",
      "              dtype='datetime64[ns]', freq='D')\n",
      "Hours:\n",
      " DatetimeIndex(['2019-12-05 00:00:00', '2019-12-05 01:00:00',\n",
      "               '2019-12-05 02:00:00', '2019-12-05 03:00:00',\n",
      "               '2019-12-05 04:00:00', '2019-12-05 05:00:00',\n",
      "               '2019-12-05 06:00:00', '2019-12-05 07:00:00',\n",
      "               '2019-12-05 08:00:00', '2019-12-05 09:00:00'],\n",
      "              dtype='datetime64[ns]', freq='H')\n",
      "Minutes:\n",
      " DatetimeIndex(['2019-12-05 00:00:00', '2019-12-05 00:01:00',\n",
      "               '2019-12-05 00:02:00', '2019-12-05 00:03:00',\n",
      "               '2019-12-05 00:04:00', '2019-12-05 00:05:00',\n",
      "               '2019-12-05 00:06:00', '2019-12-05 00:07:00',\n",
      "               '2019-12-05 00:08:00', '2019-12-05 00:09:00'],\n",
      "              dtype='datetime64[ns]', freq='T')\n",
      "Seconds:\n",
      " DatetimeIndex(['2019-12-05 00:00:00', '2019-12-05 00:00:01',\n",
      "               '2019-12-05 00:00:02', '2019-12-05 00:00:03',\n",
      "               '2019-12-05 00:00:04', '2019-12-05 00:00:05',\n",
      "               '2019-12-05 00:00:06', '2019-12-05 00:00:07',\n",
      "               '2019-12-05 00:00:08', '2019-12-05 00:00:09'],\n",
      "              dtype='datetime64[ns]', freq='S')\n"
     ]
    }
   ],
   "source": [
    "import pandas as pd\n",
    "dt = pd.date_range('20191205',periods=10,freq='D')\n",
    "print(\"Days:\\n\",dt)\n",
    "dt = pd.date_range('20191205',periods=10,freq='H')\n",
    "print(\"Hours:\\n\",dt)\n",
    "dt = pd.date_range('20191205',periods=10,freq='min')\n",
    "print(\"Minutes:\\n\",dt)\n",
    "dt = pd.date_range('20191205',periods=10,freq='s')\n",
    "print(\"Seconds:\\n\",dt)"
   ]
  },
  {
   "cell_type": "code",
   "execution_count": 3,
   "metadata": {},
   "outputs": [],
   "source": [
    "##Q136.Write a pandas program to manipulate and convert date times with timezone information."
   ]
  },
  {
   "cell_type": "code",
   "execution_count": 4,
   "metadata": {},
   "outputs": [
    {
     "name": "stdout",
     "output_type": "stream",
     "text": [
      "Days in UTC:\n",
      " DatetimeIndex(['2019-12-05 00:00:00+00:00', '2019-12-06 00:00:00+00:00',\n",
      "               '2019-12-07 00:00:00+00:00', '2019-12-08 00:00:00+00:00'],\n",
      "              dtype='datetime64[ns, UTC]', freq='D')\n",
      "Days in US/Central:\n",
      " DatetimeIndex(['2019-12-04 18:00:00-06:00', '2019-12-05 18:00:00-06:00',\n",
      "               '2019-12-06 18:00:00-06:00', '2019-12-07 18:00:00-06:00'],\n",
      "              dtype='datetime64[ns, US/Central]', freq='D')\n"
     ]
    }
   ],
   "source": [
    "import pandas as pd\n",
    "dt = pd.date_range('20191205',periods=4,freq='D',tz='UTC')\n",
    "print(\"Days in UTC:\\n\",dt)\n",
    "dt = dt.tz_convert('US/Central')\n",
    "print(\"Days in US/Central:\\n\",dt)"
   ]
  },
  {
   "cell_type": "code",
   "execution_count": 5,
   "metadata": {},
   "outputs": [],
   "source": [
    "##Q137.Write a pandas program to create the graphical analysis of UFO (unidentified flying object)   Sightings year."
   ]
  },
  {
   "cell_type": "code",
   "execution_count": 8,
   "metadata": {},
   "outputs": [],
   "source": [
    "import pandas as pd\n",
    "import matplotlib.pyplot as plt\n",
    "import seaborn as sns\n",
    "df = pd.read_csv(\"Datasets/ufo2.csv\")\n",
    "df['datetime'] = pd.to_datetime(df['datetime'],errors='coerce')\n",
    "df['year'] = df['datetime'].dt.year"
   ]
  },
  {
   "cell_type": "code",
   "execution_count": 9,
   "metadata": {},
   "outputs": [
    {
     "data": {
      "image/png": "[encoded data removed]",
      "text/plain": [
       "<Figure size 1800x936 with 1 Axes>"
      ]
     },
     "metadata": {
      "needs_background": "light"
     },
     "output_type": "display_data"
    }
   ],
   "source": [
    "years = df['year'].value_counts()\n",
    "years_index = years.index\n",
    "plt.figure(figsize=(25,13))\n",
    "plt.xticks(rotation=55)\n",
    "x =sns.barplot(years_index,years,palette=\"coolwarm\")"
   ]
  },
  {
   "cell_type": "code",
   "execution_count": 10,
   "metadata": {},
   "outputs": [],
   "source": [
    "##Q138.Write a pandas program to create a comparison of the top 10 years in which the (UFO)was sighted VSeach Month."
   ]
  },
  {
   "cell_type": "code",
   "execution_count": 11,
   "metadata": {},
   "outputs": [
    {
     "name": "stdout",
     "output_type": "stream",
     "text": [
      "datetime    1     2     3     4     5     6     7     8     9     10    11  \\\n",
      "year                                                                         \n",
      "2012      5632  4626  5408  5492  5240  8019  9441  8588  7535  7343  6691   \n",
      "\n",
      "datetime    12  \n",
      "year            \n",
      "2012      5623  \n"
     ]
    }
   ],
   "source": [
    "import pandas as pd\n",
    "df = pd.read_csv(\"Datasets/ufo2.csv\")\n",
    "df['datetime'] = pd.to_datetime(df['datetime'],errors='coerce')\n",
    "df['year'] = df['datetime'].dt.year\n",
    "years = df['year'].value_counts()\n",
    "def topyears(year):\n",
    "    for year in years.index:\n",
    "        return year\n",
    "month_year = df.pivot_table(columns=df['datetime'].dt.month,index=df['year'].apply(topyears),aggfunc='count',values='city')\n",
    "month_year.index = month_year.index.astype(int)\n",
    "month_year.columns = month_year.columns.astype(int)\n",
    "print(month_year.head(10))"
   ]
  },
  {
   "cell_type": "code",
   "execution_count": 12,
   "metadata": {},
   "outputs": [],
   "source": [
    "##Q140.Write a pandas program to create a Timewheel of Hour VSYearcomparison of the top 10years in which the (UFO)was sighted."
   ]
  },
  {
   "cell_type": "code",
   "execution_count": null,
   "metadata": {},
   "outputs": [],
   "source": []
  },
  {
   "cell_type": "code",
   "execution_count": 13,
   "metadata": {},
   "outputs": [],
   "source": [
    "##Q141. Write a python program to draw theline using given axis values with the suitable label in the x-axis, y-axis,and a title."
   ]
  },
  {
   "cell_type": "code",
   "execution_count": 14,
   "metadata": {},
   "outputs": [
    {
     "data": {
      "text/plain": [
       "[<matplotlib.lines.Line2D at 0xcaa57c8>]"
      ]
     },
     "execution_count": 14,
     "metadata": {},
     "output_type": "execute_result"
    },
    {
     "data": {
      "image/png": "[encoded data removed]",
      "text/plain": [
       "<Figure size 432x288 with 1 Axes>"
      ]
     },
     "metadata": {
      "needs_background": "light"
     },
     "output_type": "display_data"
    }
   ],
   "source": [
    "import matplotlib.pyplot as plt\n",
    "x = range(1,21)\n",
    "y = [a*2 for a in x]\n",
    "plt.title('Simple Graph')\n",
    "plt.ylabel('y-axis')\n",
    "plt.xlabel('x-axis')\n",
    "plt.plot(x,y)"
   ]
  },
  {
   "cell_type": "code",
   "execution_count": 15,
   "metadata": {},
   "outputs": [],
   "source": [
    "##Q142. Write a python program to draw the line charts of the financial data of the Alphabet Inc., between October"
   ]
  },
  {
   "cell_type": "code",
   "execution_count": 16,
   "metadata": {},
   "outputs": [
    {
     "data": {
      "text/plain": [
       "<matplotlib.axes._subplots.AxesSubplot at 0xbc9db88>"
      ]
     },
     "execution_count": 16,
     "metadata": {},
     "output_type": "execute_result"
    },
    {
     "data": {
      "image/png": "[encoded data removed]",
      "text/plain": [
       "<Figure size 432x288 with 1 Axes>"
      ]
     },
     "metadata": {
      "needs_background": "light"
     },
     "output_type": "display_data"
    }
   ],
   "source": [
    "import matplotlib.pyplot as plt\n",
    "import pandas as pd\n",
    "df = pd.read_csv('Datasets/fdata1.csv', parse_dates=True, index_col='Date')\n",
    "df.plot()"
   ]
  },
  {
   "cell_type": "code",
   "execution_count": 17,
   "metadata": {},
   "outputs": [],
   "source": [
    "##Q143. Write a Python program to plot two or more lines on same plot with the suitable legends of eachli"
   ]
  },
  {
   "cell_type": "code",
   "execution_count": 18,
   "metadata": {},
   "outputs": [
    {
     "data": {
      "text/plain": [
       "<matplotlib.legend.Legend at 0xd3cf748>"
      ]
     },
     "execution_count": 18,
     "metadata": {},
     "output_type": "execute_result"
    },
    {
     "data": {
      "image/png": "[encoded data removed]",
      "text/plain": [
       "<Figure size 432x288 with 1 Axes>"
      ]
     },
     "metadata": {
      "needs_background": "light"
     },
     "output_type": "display_data"
    }
   ],
   "source": [
    "import matplotlib.pyplot as plt\n",
    "x1 = [19,26,40]\n",
    "y1 = [14,41,33]\n",
    "plt.plot(x1,y1,label='line1')\n",
    "x2 = [14,41,33]\n",
    "y2 = [19,26,40]\n",
    "plt.plot(x2,y2,label='line2')\n",
    "plt.legend()"
   ]
  },
  {
   "cell_type": "code",
   "execution_count": 19,
   "metadata": {},
   "outputs": [],
   "source": [
    "##Q144.Write a python programming to display a bar chart of the popularity of programming languages."
   ]
  },
  {
   "cell_type": "code",
   "execution_count": 23,
   "metadata": {},
   "outputs": [
    {
     "data": {
      "text/plain": [
       "Text(0, 0.5, 'Popularity')"
      ]
     },
     "execution_count": 23,
     "metadata": {},
     "output_type": "execute_result"
    },
    {
     "data": {
      "image/png": "[encoded data removed]",
      "text/plain": [
       "<Figure size 432x288 with 1 Axes>"
      ]
     },
     "metadata": {
      "needs_background": "light"
     },
     "output_type": "display_data"
    }
   ],
   "source": [
    "langs = ['Java', 'Python', 'PHP', 'JavaScript', 'C#', 'C++']\n",
    "popularity = [22.2, 17.6, 8.8, 8, 7.7, 6.7]\n",
    "plt.bar(langs ,popularity)\n",
    "plt.xlabel(\"Languages\")\n",
    "plt.ylabel(\"Popularity\")"
   ]
  },
  {
   "cell_type": "code",
   "execution_count": 21,
   "metadata": {},
   "outputs": [],
   "source": [
    "##Q145.Write a python programming to display a horizontal bar chart of the popularity of programming languages"
   ]
  },
  {
   "cell_type": "code",
   "execution_count": 24,
   "metadata": {},
   "outputs": [
    {
     "data": {
      "text/plain": [
       "Text(0, 0.5, 'Popularity')"
      ]
     },
     "execution_count": 24,
     "metadata": {},
     "output_type": "execute_result"
    },
    {
     "data": {
      "image/png": "[encoded data removed]",
      "text/plain": [
       "<Figure size 432x288 with 1 Axes>"
      ]
     },
     "metadata": {
      "needs_background": "light"
     },
     "output_type": "display_data"
    }
   ],
   "source": [
    "langs = ['Java', 'Python', 'PHP', 'JavaScript', 'C#', 'C++']\n",
    "popularity = [22.2, 17.6, 8.8, 8, 7.7, 6.7]\n",
    "plt.barh(langs ,popularity)\n",
    "plt.xlabel(\"Languages\")\n",
    "plt.ylabel(\"Popularity\")"
   ]
  },
  {
   "cell_type": "code",
   "execution_count": 25,
   "metadata": {},
   "outputs": [],
   "source": [
    "##Q146.Write a python programming to display a bar chart of the Popularity of programming languages. Increase bottom margin."
   ]
  },
  {
   "cell_type": "code",
   "execution_count": 26,
   "metadata": {},
   "outputs": [
    {
     "data": {
      "image/png": "[encoded data removed]",
      "text/plain": [
       "<Figure size 432x288 with 1 Axes>"
      ]
     },
     "metadata": {
      "needs_background": "light"
     },
     "output_type": "display_data"
    }
   ],
   "source": [
    "langs = ['Java', 'Python', 'PHP', 'JavaScript', 'C#', 'C++']\n",
    "pop =  [22.2, 17.6, 8.8, 8, 7.7, 6.7]\n",
    "plt.bar(langs,pop)\n",
    "plt.subplots_adjust(bottom=0.6, top=0.9)"
   ]
  },
  {
   "cell_type": "code",
   "execution_count": 27,
   "metadata": {},
   "outputs": [],
   "source": [
    "##Q147.Write a python program to create the bar plot from a DataFrame"
   ]
  },
  {
   "cell_type": "code",
   "execution_count": 28,
   "metadata": {},
   "outputs": [
    {
     "data": {
      "image/png": "[encoded data removed]",
      "text/plain": [
       "<Figure size 432x288 with 1 Axes>"
      ]
     },
     "metadata": {
      "needs_background": "light"
     },
     "output_type": "display_data"
    }
   ],
   "source": [
    "import numpy as np\n",
    "import pandas as pd\n",
    "import matplotlib.pyplot as plt\n",
    "data= np.array([[4,8,5,7,6],[2,3,4,2,6],[4,7,4,7,8],[2,6,4,8,6],[2,4,3,3,2]])\n",
    "df = pd.DataFrame(data=data,columns=['a','b','c','d','e'],index=[2,4,6,8,10])\n",
    "df.plot(kind='bar')\n",
    "plt.minorticks_on()\n",
    "plt.grid(which='major', linestyle='dotted', linewidth='0.7', color='green')\n",
    "plt.grid(which='minor', linestyle='dashed', linewidth='0.6', color='grey')"
   ]
  },
  {
   "cell_type": "code",
   "execution_count": 29,
   "metadata": {},
   "outputs": [],
   "source": [
    "##Q148.Write a python program to draw thescatter plot comparing two subject marks of Mathematics and Science. Use marks of 10 students."
   ]
  },
  {
   "cell_type": "code",
   "execution_count": 30,
   "metadata": {},
   "outputs": [
    {
     "data": {
      "text/plain": [
       "Text(0, 0.5, 'Marks Scored')"
      ]
     },
     "execution_count": 30,
     "metadata": {},
     "output_type": "execute_result"
    },
    {
     "data": {
      "image/png": "[encoded data removed]",
      "text/plain": [
       "<Figure size 432x288 with 1 Axes>"
      ]
     },
     "metadata": {
      "needs_background": "light"
     },
     "output_type": "display_data"
    }
   ],
   "source": [
    "import numpy as np\n",
    "import pandas as pd\n",
    "import matplotlib.pyplot as plt\n",
    "math_marks= np.array([88, 92, 80, 89, 100, 80, 60, 100, 80, 34])\n",
    "science_marks = np.array([35, 79, 79, 48, 100, 88, 32, 45, 20, 30])\n",
    "marks_range = np.array([10, 20, 30, 40, 50, 60, 70, 80, 90, 100])\n",
    "plt.scatter(marks_range,math_marks,label='Maths Marks')\n",
    "plt.scatter(marks_range,science_marks,label='Science Marks')\n",
    "plt.legend()\n",
    "plt.title('Scatter Plot')\n",
    "plt.xlabel('Marks Range')\n",
    "plt.ylabel('Marks Scored')"
   ]
  },
  {
   "cell_type": "code",
   "execution_count": 31,
   "metadata": {},
   "outputs": [],
   "source": [
    "##Q149.Write a python program to draw thescatter plot for three different groups comparing weights and heights."
   ]
  },
  {
   "cell_type": "code",
   "execution_count": 32,
   "metadata": {},
   "outputs": [
    {
     "data": {
      "text/plain": [
       "Text(0.5, 1.0, ' Weight VS Height ')"
      ]
     },
     "execution_count": 32,
     "metadata": {},
     "output_type": "execute_result"
    },
    {
     "data": {
      "image/png": "[encoded data removed]",
      "text/plain": [
       "<Figure size 432x288 with 1 Axes>"
      ]
     },
     "metadata": {
      "needs_background": "light"
     },
     "output_type": "display_data"
    }
   ],
   "source": [
    "import matplotlib.pyplot as plt\n",
    "import numpy as np \n",
    "weight1=[67,57.2,59.6,59.64,55.8,61.2,60.45,61,56.23,56]\n",
    "height1=[101.7,197.6,98.3,125.1,113.7,157.7,136,148.9,125.3,114.9] \n",
    "weight2=[61.9,64,62.1,64.2,62.3,65.4,62.4,61.4,62.5,63.6]\n",
    "height2=[152.8,155.3,135.1,125.2,151.3,135,182.2,195.9,165.1,125.1] \n",
    "weight3=[68.2,67.2,68.4,68.7,71,71.3,70.8,70,71.1,71.7]\n",
    "height3=[165.8,170.9,192.8,135.4,161.4,136.1,167.1,235.1,181.1,177.3]\n",
    "weight = np.concatenate((weight1,weight2,weight3))\n",
    "height = np.concatenate((height1,height2,height3))\n",
    "plt.scatter(height,weight,c=['magenta'])\n",
    "plt.xlabel('height')\n",
    "plt.ylabel('weight')\n",
    "plt.title(\" Weight VS Height \")"
   ]
  },
  {
   "cell_type": "code",
   "execution_count": 33,
   "metadata": {},
   "outputs": [],
   "source": [
    "##Q150.Write a python program to draw a scatter plot to find sea-level rise in past 100 years"
   ]
  },
  {
   "cell_type": "code",
   "execution_count": 34,
   "metadata": {},
   "outputs": [
    {
     "data": {
      "image/png": "[encoded data removed]",
      "text/plain": [
       "<Figure size 432x288 with 1 Axes>"
      ]
     },
     "metadata": {
      "needs_background": "light"
     },
     "output_type": "display_data"
    }
   ],
   "source": [
    "import pandas as pd\n",
    "import matplotlib.pyplot as plt\n",
    "df = pd.read_csv(\"Datasets/sealevel.csv\")\n",
    "years = df['Year']\n",
    "levels = df['CSIRO Adjusted Sea Level']\n",
    "plt.scatter(years,levels,marker='.')\n",
    "plt.subplots_adjust(bottom=0.9, top=2)"
   ]
  },
  {
   "cell_type": "code",
   "execution_count": null,
   "metadata": {},
   "outputs": [],
   "source": []
  }
 ],
 "metadata": {
  "kernelspec": {
   "display_name": "Python 3",
   "language": "python",
   "name": "python3"
  },
  "language_info": {
   "codemirror_mode": {
    "name": "ipython",
    "version": 3
   },
   "file_extension": ".py",
   "mimetype": "text/x-python",
   "name": "python",
   "nbconvert_exporter": "python",
   "pygments_lexer": "ipython3",
   "version": "3.7.4"
  }
 },
 "nbformat": 4,
 "nbformat_minor": 2
}
