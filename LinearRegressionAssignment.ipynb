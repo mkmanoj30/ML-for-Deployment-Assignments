{
 "cells": [
  {
   "cell_type": "markdown",
   "metadata": {
    "colab_type": "text",
    "id": "R5wjM173J46-"
   },
   "source": [
    "1.\tWhat is Regression?"
   ]
  },
  {
   "cell_type": "markdown",
   "metadata": {
    "colab": {},
    "colab_type": "code",
    "id": "6LGPaZUSJ47D"
   },
   "source": [
    "ans) Regression is a process of predicting dependent variable or label based on dependent variable or also called as features.\n"
   ]
  },
  {
   "cell_type": "markdown",
   "metadata": {
    "colab_type": "text",
    "id": "Qu2IE99aJ47J"
   },
   "source": [
    "2.\tWhat is Linear Regression?"
   ]
  },
  {
   "cell_type": "markdown",
   "metadata": {
    "colab": {},
    "colab_type": "code",
    "id": "9ip6y887J47M"
   },
   "source": [
    "ans) Linearity means relation between two or more variables. \n",
    "\n",
    "Linear regression is used to predict a dependent variable(y) based on a given independent variable (x)\n",
    "\n",
    "General equation is of the form y=mx+c, where, 'y' is dependent variable(output to be predicted), 'x' is independent variable(feature) , 'm' and 'c' are coeffecients to be found for optimal prediction of 'y'."
   ]
  },
  {
   "cell_type": "markdown",
   "metadata": {
    "colab_type": "text",
    "id": "kR5K2TIhJ47R"
   },
   "source": [
    "3.\tWhen to use Linear Regression? Explain the equation of a straight line."
   ]
  },
  {
   "cell_type": "markdown",
   "metadata": {
    "colab": {},
    "colab_type": "code",
    "id": "L8MRjRYCJ47T"
   },
   "source": [
    "ans)Linear Regression is used fo time-series modeling.\n",
    "\n",
    "General equation is of the form y=mx+c, where, 'y' is dependent variable(output to be predicted), 'x' is independent variable(feature) , 'm' and 'c' are coeffecients to be found for optimal prediction of 'y'."
   ]
  },
  {
   "cell_type": "markdown",
   "metadata": {
    "colab_type": "text",
    "id": "UyFIeyvhJ47Y"
   },
   "source": [
    "4.\tWhat kind of plots will you use to showcase the relationship amongst the columns?"
   ]
  },
  {
   "cell_type": "markdown",
   "metadata": {
    "colab": {},
    "colab_type": "code",
    "id": "1lge3pqJJ47Z"
   },
   "source": [
    "We can use scatter plots between 'y' coloumn with each feature coloumn."
   ]
  },
  {
   "cell_type": "markdown",
   "metadata": {
    "colab_type": "text",
    "id": "yN9R9BMdJ47f"
   },
   "source": [
    "5.\tHow is the best fit line chosen?"
   ]
  },
  {
   "cell_type": "markdown",
   "metadata": {
    "colab": {},
    "colab_type": "code",
    "id": "_o20GxG4J47h"
   },
   "source": [
    "The best fit line is obtained by minimizing the residual. Residual is the distance between the actual y value and the predicted y value."
   ]
  },
  {
   "cell_type": "markdown",
   "metadata": {
    "colab_type": "text",
    "id": "8i9AQpXFJ47r"
   },
   "source": [
    "6.\tWhat is gradient descent, and why is it used? Explain the maths."
   ]
  },
  {
   "cell_type": "markdown",
   "metadata": {
    "colab": {},
    "colab_type": "code",
    "id": "ayz_jflVJ47t"
   },
   "source": [
    "ans) Gradient descent is an optimization algorithm used to find the values of parameters of a function that minimizes a cost function. \n",
    "\n",
    "The idea is that by being able to compute the derivative/slope of the function, we can find the minimum of a function.\n",
    "\n",
    "This size of steps taken to reach the minimum or bottom is called learning rate. We can cover more area with larger steps/higher learning rate but are at the risk of overshooting the minima. On the other hand, small steps/smaller learning rates will consume a lot of time to reach the lowest point."
   ]
  },
  {
   "cell_type": "markdown",
   "metadata": {
    "colab_type": "text",
    "id": "k-WvmAN7J47z"
   },
   "source": [
    "7.\tWhat are residuals?"
   ]
  },
  {
   "cell_type": "markdown",
   "metadata": {
    "colab": {},
    "colab_type": "code",
    "id": "K1_6gwPoJ471"
   },
   "source": [
    " ans)Residual is the distance between the actual 'y' and the predicted 'y'."
   ]
  },
  {
   "cell_type": "markdown",
   "metadata": {
    "colab_type": "text",
    "id": "VgDkFn82J477"
   },
   "source": [
    "8.\tWhat is correlation?"
   ]
  },
  {
   "cell_type": "markdown",
   "metadata": {
    "colab": {},
    "colab_type": "code",
    "id": "1x_p011TJ479"
   },
   "source": [
    "ans)Correlation is a technique that can show whether and how strongly pairs of variables are related."
   ]
  },
  {
   "cell_type": "markdown",
   "metadata": {
    "colab_type": "text",
    "id": "QzGG8UiGJ48H"
   },
   "source": [
    "9.\tWhat is multicollinearity?"
   ]
  },
  {
   "cell_type": "markdown",
   "metadata": {
    "colab": {},
    "colab_type": "code",
    "id": "EY2MesulJ48I"
   },
   "source": [
    "ans)  Multicollinearity exists whenever an independent variable is highly correlated with one or more of the other independent variables in a multiple linear regression model."
   ]
  },
  {
   "cell_type": "markdown",
   "metadata": {
    "colab_type": "text",
    "id": "S1IlDVDlJ48O"
   },
   "source": [
    "10.\tHow to detect multicollinearity?"
   ]
  },
  {
   "cell_type": "markdown",
   "metadata": {
    "colab": {},
    "colab_type": "code",
    "id": "8ikFdsa_J48P"
   },
   "source": [
    "ans) Multicollinearity can also be detected with the help of metric called variance inflation factor (VIF)."
   ]
  },
  {
   "cell_type": "markdown",
   "metadata": {
    "colab_type": "text",
    "id": "5DobTCzpJ48Z"
   },
   "source": [
    "11.\tWhat are the remedies for multicollinearity?"
   ]
  },
  {
   "cell_type": "markdown",
   "metadata": {
    "colab": {},
    "colab_type": "code",
    "id": "bqvf0uP4J48a"
   },
   "source": [
    "ans) Do Nothing: If the Correlation is not that extreme, we can ignore it. If the correlated variables are not used in solving our business question, they can be ignored.\n",
    "    \n",
    "Remove One Variable: Like in dummy variable trap\n",
    "\n",
    "Combine the correlated variables: Like creating a seniority score based on Age and Years of experience\n",
    "    \n",
    "Principal Component Analysis\n"
   ]
  },
  {
   "cell_type": "markdown",
   "metadata": {
    "colab_type": "text",
    "id": "BNWh1htPJ48h"
   },
   "source": [
    "12.\tWhat is the R-Squared Statistics?"
   ]
  },
  {
   "cell_type": "markdown",
   "metadata": {
    "colab": {},
    "colab_type": "code",
    "id": "IIjIX7ebJ48i"
   },
   "source": [
    "ans) The R-squared statistic provides a measure of fit. It takes the form of a proportion—the proportion of variance explained—and so it always takes on a value between 0 and 1."
   ]
  },
  {
   "cell_type": "markdown",
   "metadata": {
    "colab_type": "text",
    "id": "j1S_v4-2J48r"
   },
   "source": [
    "13.\tWhat is an adjusted R-Squared Statistics?"
   ]
  },
  {
   "cell_type": "markdown",
   "metadata": {
    "colab": {},
    "colab_type": "code",
    "id": "jm6XptWeJ48s"
   },
   "source": [
    "ans) As number of independent variables increase, R2 also increases, it doesnt mean that they are correlated. It is not neccesary that prediction will be better with more R2, so we use Adjusted-R2. Adjusted R2 value penalises excessive use of such features which do not correlate with the output data."
   ]
  },
  {
   "cell_type": "markdown",
   "metadata": {
    "colab_type": "text",
    "id": "oze7HS_DJ480"
   },
   "source": [
    "14.\tWhy do we use adj R-squared?"
   ]
  },
  {
   "cell_type": "markdown",
   "metadata": {
    "colab": {},
    "colab_type": "code",
    "id": "g3cZQiuhJ482"
   },
   "source": [
    "ans) Adjusted R2 value penalises excessive use of such features which do not correlate with the output data."
   ]
  },
  {
   "cell_type": "markdown",
   "metadata": {
    "colab_type": "text",
    "id": "pA5yZ5bIJ485"
   },
   "source": [
    "15.\tWhy adj R-squared decreases when we use incompetent variables?\n",
    "\n"
   ]
  },
  {
   "cell_type": "markdown",
   "metadata": {
    "colab": {},
    "colab_type": "code",
    "id": "c2Ya8ZQRJ486"
   },
   "source": [
    "ans) It will decrease when a predictor improves the model less than what is predicted by chance."
   ]
  },
  {
   "cell_type": "markdown",
   "metadata": {
    "colab_type": "text",
    "id": "M5bACG_XJ48-"
   },
   "source": [
    "16.\tHow to interpret a Linear Regression model?"
   ]
  },
  {
   "cell_type": "markdown",
   "metadata": {
    "colab": {},
    "colab_type": "code",
    "id": "Dtf25BrrJ49A"
   },
   "source": [
    "ans) For example we have to interpret the coefficient for spends on TV ad (m).\n",
    "\n",
    "We have  y=mx+c,\n",
    "where m= 0.05 and c = 4.5\n",
    "\n",
    "we can say that a single unit increase in spends on TV ad is associated with a 0.05units increase in Sales."
   ]
  },
  {
   "cell_type": "markdown",
   "metadata": {
    "colab_type": "text",
    "id": "QJOTmy_pJ49N"
   },
   "source": [
    "17.\tWhat is the difference between fit, fit_transform and predict methods?"
   ]
  },
  {
   "cell_type": "markdown",
   "metadata": {
    "colab": {},
    "colab_type": "code",
    "id": "Sjgzvj3cJ49O"
   },
   "source": [
    "ans) fit() is used to fit your model tothe training data. We can later transform the parameters generated from fit() method.\n",
    "fit_transform() is combination of fit() and transform() function on same data set. It used \n",
    "\n",
    "predict() is used to  predict the label of a new set of data. This method accepts one argument, the data \"x\" and predicts a \"y\" for it."
   ]
  },
  {
   "cell_type": "markdown",
   "metadata": {
    "colab_type": "text",
    "id": "QfmhgOvAJ49T"
   },
   "source": [
    "18.\tHow do you plot the least squared line?"
   ]
  },
  {
   "cell_type": "markdown",
   "metadata": {
    "colab": {},
    "colab_type": "code",
    "id": "U3mx-15gJ49V"
   },
   "source": [
    "ans) Least squared line is also called as Line of best Fit.  We use scatter plot for it."
   ]
  },
  {
   "cell_type": "markdown",
   "metadata": {
    "colab_type": "text",
    "id": "oA4KDt85J49i"
   },
   "source": [
    "19.\tWhat are Bias and Variance? What is Bias Variance Trade-off?"
   ]
  },
  {
   "cell_type": "markdown",
   "metadata": {
    "colab": {},
    "colab_type": "code",
    "id": "TSek4AnoJ49j"
   },
   "source": [
    "ans) Bias is the difference between the average prediction of our model and the correct value which we are trying to predict. Model with high bias pays very little attention to the training data and oversimplifies the model.\n",
    "\n",
    "Variance is the variability of model prediction for a given data point or a value which tells us spread of our data. Model with high variance pays a lot of attention to training data and does not generalize on the data which it hasn’t seen before.\n",
    "\n",
    "In supervised learning, underfitting happens when a model unable to capture the underlying pattern of the data. These models usually have high bias and low variance. \n",
    "In supervised learning, overfitting happens when our model have low bias and high variance. \n",
    "f our model is too simple and has very few parameters then it may have high bias and low variance. On the other hand if our model has large number of parameters then it’s going to have high variance and low bias. So we need to find the right/good balance without overfitting and underfitting the data."
   ]
  },
  {
   "cell_type": "markdown",
   "metadata": {
    "colab_type": "text",
    "id": "xeLRGo9mJ49n"
   },
   "source": [
    "20.\tWhat is the null and alternate hypothesis?"
   ]
  },
  {
   "cell_type": "markdown",
   "metadata": {
    "colab": {},
    "colab_type": "code",
    "id": "77qN82EGJ49o"
   },
   "source": [
    "ans)\n",
    "Null hypothesis: No relationship exists between \"x\" and \"y\", \"c\"=0\n",
    "Alternative hypothesis: There exists a relationship between \"x\" and \"y\" ,\"c\" has some value.\n",
    "This answer assumes the equation y=mx+c"
   ]
  },
  {
   "cell_type": "markdown",
   "metadata": {
    "colab_type": "text",
    "id": "HVFSHzXIJ49t"
   },
   "source": [
    "21.\tWhat is multiple linear regression?"
   ]
  },
  {
   "cell_type": "markdown",
   "metadata": {
    "colab": {},
    "colab_type": "code",
    "id": "kpseLGTnJ49u"
   },
   "source": [
    "ans) we include multiple features and create a model to see the relationship between those features and the label column. This is called Multiple Linear Regression."
   ]
  },
  {
   "cell_type": "markdown",
   "metadata": {
    "colab_type": "text",
    "id": "f4CNB4_hJ490"
   },
   "source": [
    "22.\tWhat is the OLS method? Derive the formulae used in the OLS method."
   ]
  },
  {
   "cell_type": "markdown",
   "metadata": {
    "colab": {},
    "colab_type": "code",
    "id": "JGgl1s9lJ492"
   },
   "source": [
    "ans) OLS is Ordinary Least Squared error."
   ]
  },
  {
   "cell_type": "markdown",
   "metadata": {
    "colab_type": "text",
    "id": "WPopKYreJ497"
   },
   "source": [
    "23.\tWhat is the p-value? How does it help in feature selection?"
   ]
  },
  {
   "cell_type": "markdown",
   "metadata": {
    "colab": {},
    "colab_type": "code",
    "id": "GuE7iMH3J498"
   },
   "source": [
    "ans) The p-value is the probability of obtaining the observed results of a test, assuming that the null hypothesis is correct.The p-value represents the probability of the coefficient actually being zero.\n",
    "\n",
    "It helps us in deciding wether the feature is actually related to the response we are predicting. Usually p-value less than 0.05 means that there is 95% chance that feature is related to response."
   ]
  },
  {
   "cell_type": "markdown",
   "metadata": {
    "colab_type": "text",
    "id": "aGd2bl4eJ4-B"
   },
   "source": [
    "24.\tHow to handle categorical values in the data?"
   ]
  },
  {
   "cell_type": "markdown",
   "metadata": {
    "colab": {},
    "colab_type": "code",
    "id": "h894slJcJ4-D"
   },
   "source": [
    "ans) if variable has only two categories, convert it to  0s and 1s by creating a dummy variable\n",
    "if variable has 3 categories, create 2 dummy variables, 1st category is 0 for first and second variable, 2nd category is 1 for first and 0 for second variable, 3rd category is 0 for first and 1 for second variable."
   ]
  },
  {
   "cell_type": "markdown",
   "metadata": {
    "colab_type": "text",
    "id": "f6WlOUTrJ4-I"
   },
   "source": [
    "25.\tWhat is regularization, and why do we need it?"
   ]
  },
  {
   "cell_type": "markdown",
   "metadata": {
    "colab": {},
    "colab_type": "code",
    "id": "1OZhjpGiJ4-L"
   },
   "source": [
    "ans)When we use the regression models to train some data, there are chances that the model will overfit the given training dataset. Regularization helps to solve this overfitting problem by reducing the degrees of a polynomial function by reducing their  weights"
   ]
  },
  {
   "cell_type": "markdown",
   "metadata": {
    "colab_type": "text",
    "id": "05ZzyGhtJ4-V"
   },
   "source": [
    "26.\tExplain Ridge Regression."
   ]
  },
  {
   "cell_type": "markdown",
   "metadata": {
    "colab": {},
    "colab_type": "code",
    "id": "wyWspxxZJ4-W"
   },
   "source": [
    "ans)Ridge regression penalizes the model based on the sum of squares of magnitude of the coefficients. The regularization term is given by\n",
    "\n",
    "regularization= RSS+𝜆∗∑|𝛽2𝑗|"
   ]
  },
  {
   "cell_type": "markdown",
   "metadata": {
    "colab_type": "text",
    "id": "D0A2cVQNJ4-g"
   },
   "source": [
    "27.\tExplain Lasso Regression."
   ]
  },
  {
   "cell_type": "markdown",
   "metadata": {
    "colab": {},
    "colab_type": "code",
    "id": "vnpkVXrfJ4-h"
   },
   "source": [
    "ans)Lasso regression is a type of linear regression that uses shrinkage. Shrinkage is where data values are shrunk towards a central point, like the mean.\n",
    "For Lasso,  𝛽1  +  𝛽2  <= s\n",
    "\n",
    "The regularization term is given by\n",
    "\n",
    "regularization= 𝜆∗∑|𝛽𝑗|"
   ]
  },
  {
   "cell_type": "markdown",
   "metadata": {
    "colab_type": "text",
    "id": "f8drZfHoJ4-l"
   },
   "source": [
    "28.\tExplain Elastic Net."
   ]
  },
  {
   "cell_type": "markdown",
   "metadata": {
    "colab": {},
    "colab_type": "code",
    "id": "p2DWofyFJ4-m"
   },
   "source": [
    "ans)Combination of lasso and ridge is Elastic Nets– This add regularization terms in the model which are combination of both L1 and L2 regularization."
   ]
  },
  {
   "cell_type": "markdown",
   "metadata": {
    "colab_type": "text",
    "id": "Y1Km3zKmJ4-x"
   },
   "source": [
    "29.\tWhy do we do a train test split?"
   ]
  },
  {
   "cell_type": "markdown",
   "metadata": {
    "colab": {},
    "colab_type": "code",
    "id": "RqaQwvIBJ4-y"
   },
   "source": [
    "ans)Purpose of splitting data into three different category is to avoid overfitting which is paying attention to minor details/noise which are not necessary and only optimizes the training dataset accuracy."
   ]
  },
  {
   "cell_type": "markdown",
   "metadata": {
    "colab_type": "text",
    "id": "iPGQQCKSJ4-3"
   },
   "source": [
    "30.\tWhat is polynomial regression? When to use it?"
   ]
  },
  {
   "cell_type": "markdown",
   "metadata": {
    "colab": {},
    "colab_type": "code",
    "id": "ypImIWL2J4-7"
   },
   "source": [
    "ans) polynomial regression is a form of regression in which the relationship between the feature variable x and the dependent variable y is modelled as an nth degree polynomial in x."
   ]
  },
  {
   "cell_type": "markdown",
   "metadata": {
    "colab_type": "text",
    "id": "PcfEcJI8J4-_"
   },
   "source": [
    "31.\tExplain the steps for GCP deployment."
   ]
  },
  {
   "cell_type": "markdown",
   "metadata": {
    "colab": {},
    "colab_type": "code",
    "id": "yHVSAkFeJ4_A"
   },
   "source": [
    "1. Go to https://cloud.google.com/ \n",
    "2. Go to IAM and admin(highlighted) and click manage resources\n",
    "3. lick CREATE PROJECT to create a new project for deployment.\n",
    "4. Once the project gets created, select App Engine and select Dashboard.\n",
    "5. Go to https://dl.google.com/dl/cloudsdk/channels/rapid/GoogleCloudSDKInstaller.exe to download the google cloud SDK to your machine.\n",
    "6. Click Start Tutorial on the screen and select Python app and click start.\n",
    "7. Check whether the correct project name is displayed and then click next\n",
    "8. Create a file ‘app.yaml’ and put ‘runtime: python37’ in that file.\n",
    "9. Create a ‘requirements.txt’ file by opening the command prompt/anaconda prompt, navigate to the project folder and enter the command ‘pip freeze > requirements.txt’. It is recommended to use separate environments for different projects.\n",
    "10. Your python application file should be called ‘main.py’. It is a GCP specific requirement.\n",
    "11. Open command prompt window, navigate to the project folder and enter the command gcloud init to initialise the gcloud context.\n",
    "12. It asks you to select from the list of available projects.\n",
    "13. Once the project name is selected, enter the command gcloud app deploy app.yaml --project\n",
    "14. After executing the above command, GCP will ask you to enter the region for your application. Choose the appropriate one.\n",
    "15. GCP will ask for the services to be deployed. Enter ‘y’ to deploy the services. \n",
    "16. Then get the link and open it to check your deployment."
   ]
  },
  {
   "cell_type": "markdown",
   "metadata": {
    "colab_type": "text",
    "id": "tkYj35N2J4_D"
   },
   "source": [
    "32. What difficulties did you face in cloud deployment?"
   ]
  },
  {
   "cell_type": "markdown",
   "metadata": {
    "colab": {},
    "colab_type": "code",
    "id": "IrYjH0x0J4_E"
   },
   "source": [
    "ans) \n",
    "1. Credit card problem\n",
    "2. gcloud sdk installation(system problem)\n",
    "3. requirements.txt took packages from default environment. It became too big.\n",
    "\n",
    "\n",
    "At the end I just did it on heroku\n"
   ]
  },
  {
   "cell_type": "code",
   "execution_count": null,
   "metadata": {},
   "outputs": [],
   "source": []
  }
 ],
 "metadata": {
  "colab": {
   "name": "LinearRegressionAssignment.ipynb",
   "provenance": []
  },
  "kernelspec": {
   "display_name": "Python 3",
   "language": "python",
   "name": "python3"
  },
  "language_info": {
   "codemirror_mode": {
    "name": "ipython",
    "version": 3
   },
   "file_extension": ".py",
   "mimetype": "text/x-python",
   "name": "python",
   "nbconvert_exporter": "python",
   "pygments_lexer": "ipython3",
   "version": "3.7.3"
  }
 },
 "nbformat": 4,
 "nbformat_minor": 1
}
